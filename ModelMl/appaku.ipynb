{
  "cells": [
    {
      "cell_type": "code",
      "execution_count": 1,
      "metadata": {
        "colab": {
          "base_uri": "https://localhost:8080/"
        },
        "id": "EUcWBRDE5A60",
        "outputId": "cc4ef98a-fa05-4735-8438-8f4dfabf69ba"
      },
      "outputs": [
        {
          "output_type": "stream",
          "name": "stdout",
          "text": [
            "Collecting transformers==4.30\n",
            "  Downloading transformers-4.30.0-py3-none-any.whl.metadata (113 kB)\n",
            "\u001b[?25l     \u001b[90m━━━━━━━━━━━━━━━━━━━━━━━━━━━━━━━━━━━━━━━━\u001b[0m \u001b[32m0.0/113.6 kB\u001b[0m \u001b[31m?\u001b[0m eta \u001b[36m-:--:--\u001b[0m\r\u001b[2K     \u001b[90m━━━━━━━━━━━━━━━━━━━━━━━━━━━━━━━━━━━━━━━━\u001b[0m \u001b[32m113.6/113.6 kB\u001b[0m \u001b[31m3.5 MB/s\u001b[0m eta \u001b[36m0:00:00\u001b[0m\n",
            "\u001b[?25hRequirement already satisfied: filelock in /usr/local/lib/python3.10/dist-packages (from transformers==4.30) (3.15.4)\n",
            "Requirement already satisfied: huggingface-hub<1.0,>=0.14.1 in /usr/local/lib/python3.10/dist-packages (from transformers==4.30) (0.23.5)\n",
            "Requirement already satisfied: numpy>=1.17 in /usr/local/lib/python3.10/dist-packages (from transformers==4.30) (1.26.4)\n",
            "Requirement already satisfied: packaging>=20.0 in /usr/local/lib/python3.10/dist-packages (from transformers==4.30) (24.1)\n",
            "Requirement already satisfied: pyyaml>=5.1 in /usr/local/lib/python3.10/dist-packages (from transformers==4.30) (6.0.1)\n",
            "Requirement already satisfied: regex!=2019.12.17 in /usr/local/lib/python3.10/dist-packages (from transformers==4.30) (2024.5.15)\n",
            "Requirement already satisfied: requests in /usr/local/lib/python3.10/dist-packages (from transformers==4.30) (2.32.3)\n",
            "Collecting tokenizers!=0.11.3,<0.14,>=0.11.1 (from transformers==4.30)\n",
            "  Downloading tokenizers-0.13.3-cp310-cp310-manylinux_2_17_x86_64.manylinux2014_x86_64.whl.metadata (6.7 kB)\n",
            "Requirement already satisfied: safetensors>=0.3.1 in /usr/local/lib/python3.10/dist-packages (from transformers==4.30) (0.4.4)\n",
            "Requirement already satisfied: tqdm>=4.27 in /usr/local/lib/python3.10/dist-packages (from transformers==4.30) (4.66.5)\n",
            "Requirement already satisfied: fsspec>=2023.5.0 in /usr/local/lib/python3.10/dist-packages (from huggingface-hub<1.0,>=0.14.1->transformers==4.30) (2024.6.1)\n",
            "Requirement already satisfied: typing-extensions>=3.7.4.3 in /usr/local/lib/python3.10/dist-packages (from huggingface-hub<1.0,>=0.14.1->transformers==4.30) (4.12.2)\n",
            "Requirement already satisfied: charset-normalizer<4,>=2 in /usr/local/lib/python3.10/dist-packages (from requests->transformers==4.30) (3.3.2)\n",
            "Requirement already satisfied: idna<4,>=2.5 in /usr/local/lib/python3.10/dist-packages (from requests->transformers==4.30) (3.7)\n",
            "Requirement already satisfied: urllib3<3,>=1.21.1 in /usr/local/lib/python3.10/dist-packages (from requests->transformers==4.30) (2.0.7)\n",
            "Requirement already satisfied: certifi>=2017.4.17 in /usr/local/lib/python3.10/dist-packages (from requests->transformers==4.30) (2024.7.4)\n",
            "Downloading transformers-4.30.0-py3-none-any.whl (7.2 MB)\n",
            "\u001b[2K   \u001b[90m━━━━━━━━━━━━━━━━━━━━━━━━━━━━━━━━━━━━━━━━\u001b[0m \u001b[32m7.2/7.2 MB\u001b[0m \u001b[31m46.2 MB/s\u001b[0m eta \u001b[36m0:00:00\u001b[0m\n",
            "\u001b[?25hDownloading tokenizers-0.13.3-cp310-cp310-manylinux_2_17_x86_64.manylinux2014_x86_64.whl (7.8 MB)\n",
            "\u001b[2K   \u001b[90m━━━━━━━━━━━━━━━━━━━━━━━━━━━━━━━━━━━━━━━━\u001b[0m \u001b[32m7.8/7.8 MB\u001b[0m \u001b[31m43.2 MB/s\u001b[0m eta \u001b[36m0:00:00\u001b[0m\n",
            "\u001b[?25hInstalling collected packages: tokenizers, transformers\n",
            "  Attempting uninstall: tokenizers\n",
            "    Found existing installation: tokenizers 0.19.1\n",
            "    Uninstalling tokenizers-0.19.1:\n",
            "      Successfully uninstalled tokenizers-0.19.1\n",
            "  Attempting uninstall: transformers\n",
            "    Found existing installation: transformers 4.42.4\n",
            "    Uninstalling transformers-4.42.4:\n",
            "      Successfully uninstalled transformers-4.42.4\n",
            "Successfully installed tokenizers-0.13.3 transformers-4.30.0\n"
          ]
        }
      ],
      "source": [
        "pip install transformers==4.30"
      ]
    },
    {
      "cell_type": "code",
      "execution_count": 2,
      "metadata": {
        "colab": {
          "base_uri": "https://localhost:8080/"
        },
        "id": "bIcwpPGt5BzL",
        "outputId": "d8dd5ee3-dd7c-4c7b-c56d-3138cf83818f"
      },
      "outputs": [
        {
          "output_type": "stream",
          "name": "stdout",
          "text": [
            "Requirement already satisfied: transformers[torch] in /usr/local/lib/python3.10/dist-packages (4.30.0)\n",
            "Requirement already satisfied: filelock in /usr/local/lib/python3.10/dist-packages (from transformers[torch]) (3.15.4)\n",
            "Requirement already satisfied: huggingface-hub<1.0,>=0.14.1 in /usr/local/lib/python3.10/dist-packages (from transformers[torch]) (0.23.5)\n",
            "Requirement already satisfied: numpy>=1.17 in /usr/local/lib/python3.10/dist-packages (from transformers[torch]) (1.26.4)\n",
            "Requirement already satisfied: packaging>=20.0 in /usr/local/lib/python3.10/dist-packages (from transformers[torch]) (24.1)\n",
            "Requirement already satisfied: pyyaml>=5.1 in /usr/local/lib/python3.10/dist-packages (from transformers[torch]) (6.0.1)\n",
            "Requirement already satisfied: regex!=2019.12.17 in /usr/local/lib/python3.10/dist-packages (from transformers[torch]) (2024.5.15)\n",
            "Requirement already satisfied: requests in /usr/local/lib/python3.10/dist-packages (from transformers[torch]) (2.32.3)\n",
            "Requirement already satisfied: tokenizers!=0.11.3,<0.14,>=0.11.1 in /usr/local/lib/python3.10/dist-packages (from transformers[torch]) (0.13.3)\n",
            "Requirement already satisfied: safetensors>=0.3.1 in /usr/local/lib/python3.10/dist-packages (from transformers[torch]) (0.4.4)\n",
            "Requirement already satisfied: tqdm>=4.27 in /usr/local/lib/python3.10/dist-packages (from transformers[torch]) (4.66.5)\n",
            "Requirement already satisfied: torch!=1.12.0,>=1.9 in /usr/local/lib/python3.10/dist-packages (from transformers[torch]) (2.3.1+cu121)\n",
            "Requirement already satisfied: accelerate>=0.20.2 in /usr/local/lib/python3.10/dist-packages (from transformers[torch]) (0.32.1)\n",
            "Requirement already satisfied: psutil in /usr/local/lib/python3.10/dist-packages (from accelerate>=0.20.2->transformers[torch]) (5.9.5)\n",
            "Requirement already satisfied: fsspec>=2023.5.0 in /usr/local/lib/python3.10/dist-packages (from huggingface-hub<1.0,>=0.14.1->transformers[torch]) (2024.6.1)\n",
            "Requirement already satisfied: typing-extensions>=3.7.4.3 in /usr/local/lib/python3.10/dist-packages (from huggingface-hub<1.0,>=0.14.1->transformers[torch]) (4.12.2)\n",
            "Requirement already satisfied: sympy in /usr/local/lib/python3.10/dist-packages (from torch!=1.12.0,>=1.9->transformers[torch]) (1.13.1)\n",
            "Requirement already satisfied: networkx in /usr/local/lib/python3.10/dist-packages (from torch!=1.12.0,>=1.9->transformers[torch]) (3.3)\n",
            "Requirement already satisfied: jinja2 in /usr/local/lib/python3.10/dist-packages (from torch!=1.12.0,>=1.9->transformers[torch]) (3.1.4)\n",
            "Collecting nvidia-cuda-nvrtc-cu12==12.1.105 (from torch!=1.12.0,>=1.9->transformers[torch])\n",
            "  Using cached nvidia_cuda_nvrtc_cu12-12.1.105-py3-none-manylinux1_x86_64.whl.metadata (1.5 kB)\n",
            "Collecting nvidia-cuda-runtime-cu12==12.1.105 (from torch!=1.12.0,>=1.9->transformers[torch])\n",
            "  Using cached nvidia_cuda_runtime_cu12-12.1.105-py3-none-manylinux1_x86_64.whl.metadata (1.5 kB)\n",
            "Collecting nvidia-cuda-cupti-cu12==12.1.105 (from torch!=1.12.0,>=1.9->transformers[torch])\n",
            "  Using cached nvidia_cuda_cupti_cu12-12.1.105-py3-none-manylinux1_x86_64.whl.metadata (1.6 kB)\n",
            "Collecting nvidia-cudnn-cu12==8.9.2.26 (from torch!=1.12.0,>=1.9->transformers[torch])\n",
            "  Using cached nvidia_cudnn_cu12-8.9.2.26-py3-none-manylinux1_x86_64.whl.metadata (1.6 kB)\n",
            "Collecting nvidia-cublas-cu12==12.1.3.1 (from torch!=1.12.0,>=1.9->transformers[torch])\n",
            "  Using cached nvidia_cublas_cu12-12.1.3.1-py3-none-manylinux1_x86_64.whl.metadata (1.5 kB)\n",
            "Collecting nvidia-cufft-cu12==11.0.2.54 (from torch!=1.12.0,>=1.9->transformers[torch])\n",
            "  Using cached nvidia_cufft_cu12-11.0.2.54-py3-none-manylinux1_x86_64.whl.metadata (1.5 kB)\n",
            "Collecting nvidia-curand-cu12==10.3.2.106 (from torch!=1.12.0,>=1.9->transformers[torch])\n",
            "  Using cached nvidia_curand_cu12-10.3.2.106-py3-none-manylinux1_x86_64.whl.metadata (1.5 kB)\n",
            "Collecting nvidia-cusolver-cu12==11.4.5.107 (from torch!=1.12.0,>=1.9->transformers[torch])\n",
            "  Using cached nvidia_cusolver_cu12-11.4.5.107-py3-none-manylinux1_x86_64.whl.metadata (1.6 kB)\n",
            "Collecting nvidia-cusparse-cu12==12.1.0.106 (from torch!=1.12.0,>=1.9->transformers[torch])\n",
            "  Using cached nvidia_cusparse_cu12-12.1.0.106-py3-none-manylinux1_x86_64.whl.metadata (1.6 kB)\n",
            "Collecting nvidia-nccl-cu12==2.20.5 (from torch!=1.12.0,>=1.9->transformers[torch])\n",
            "  Using cached nvidia_nccl_cu12-2.20.5-py3-none-manylinux2014_x86_64.whl.metadata (1.8 kB)\n",
            "Collecting nvidia-nvtx-cu12==12.1.105 (from torch!=1.12.0,>=1.9->transformers[torch])\n",
            "  Using cached nvidia_nvtx_cu12-12.1.105-py3-none-manylinux1_x86_64.whl.metadata (1.7 kB)\n",
            "Requirement already satisfied: triton==2.3.1 in /usr/local/lib/python3.10/dist-packages (from torch!=1.12.0,>=1.9->transformers[torch]) (2.3.1)\n",
            "Collecting nvidia-nvjitlink-cu12 (from nvidia-cusolver-cu12==11.4.5.107->torch!=1.12.0,>=1.9->transformers[torch])\n",
            "  Using cached nvidia_nvjitlink_cu12-12.6.20-py3-none-manylinux2014_x86_64.whl.metadata (1.5 kB)\n",
            "Requirement already satisfied: charset-normalizer<4,>=2 in /usr/local/lib/python3.10/dist-packages (from requests->transformers[torch]) (3.3.2)\n",
            "Requirement already satisfied: idna<4,>=2.5 in /usr/local/lib/python3.10/dist-packages (from requests->transformers[torch]) (3.7)\n",
            "Requirement already satisfied: urllib3<3,>=1.21.1 in /usr/local/lib/python3.10/dist-packages (from requests->transformers[torch]) (2.0.7)\n",
            "Requirement already satisfied: certifi>=2017.4.17 in /usr/local/lib/python3.10/dist-packages (from requests->transformers[torch]) (2024.7.4)\n",
            "Requirement already satisfied: MarkupSafe>=2.0 in /usr/local/lib/python3.10/dist-packages (from jinja2->torch!=1.12.0,>=1.9->transformers[torch]) (2.1.5)\n",
            "Requirement already satisfied: mpmath<1.4,>=1.1.0 in /usr/local/lib/python3.10/dist-packages (from sympy->torch!=1.12.0,>=1.9->transformers[torch]) (1.3.0)\n",
            "Using cached nvidia_cublas_cu12-12.1.3.1-py3-none-manylinux1_x86_64.whl (410.6 MB)\n",
            "Using cached nvidia_cuda_cupti_cu12-12.1.105-py3-none-manylinux1_x86_64.whl (14.1 MB)\n",
            "Using cached nvidia_cuda_nvrtc_cu12-12.1.105-py3-none-manylinux1_x86_64.whl (23.7 MB)\n",
            "Using cached nvidia_cuda_runtime_cu12-12.1.105-py3-none-manylinux1_x86_64.whl (823 kB)\n",
            "Using cached nvidia_cudnn_cu12-8.9.2.26-py3-none-manylinux1_x86_64.whl (731.7 MB)\n",
            "Using cached nvidia_cufft_cu12-11.0.2.54-py3-none-manylinux1_x86_64.whl (121.6 MB)\n",
            "Using cached nvidia_curand_cu12-10.3.2.106-py3-none-manylinux1_x86_64.whl (56.5 MB)\n",
            "Using cached nvidia_cusolver_cu12-11.4.5.107-py3-none-manylinux1_x86_64.whl (124.2 MB)\n",
            "Using cached nvidia_cusparse_cu12-12.1.0.106-py3-none-manylinux1_x86_64.whl (196.0 MB)\n",
            "Using cached nvidia_nccl_cu12-2.20.5-py3-none-manylinux2014_x86_64.whl (176.2 MB)\n",
            "Using cached nvidia_nvtx_cu12-12.1.105-py3-none-manylinux1_x86_64.whl (99 kB)\n",
            "Using cached nvidia_nvjitlink_cu12-12.6.20-py3-none-manylinux2014_x86_64.whl (19.7 MB)\n",
            "Installing collected packages: nvidia-nvtx-cu12, nvidia-nvjitlink-cu12, nvidia-nccl-cu12, nvidia-curand-cu12, nvidia-cufft-cu12, nvidia-cuda-runtime-cu12, nvidia-cuda-nvrtc-cu12, nvidia-cuda-cupti-cu12, nvidia-cublas-cu12, nvidia-cusparse-cu12, nvidia-cudnn-cu12, nvidia-cusolver-cu12\n",
            "Successfully installed nvidia-cublas-cu12-12.1.3.1 nvidia-cuda-cupti-cu12-12.1.105 nvidia-cuda-nvrtc-cu12-12.1.105 nvidia-cuda-runtime-cu12-12.1.105 nvidia-cudnn-cu12-8.9.2.26 nvidia-cufft-cu12-11.0.2.54 nvidia-curand-cu12-10.3.2.106 nvidia-cusolver-cu12-11.4.5.107 nvidia-cusparse-cu12-12.1.0.106 nvidia-nccl-cu12-2.20.5 nvidia-nvjitlink-cu12-12.6.20 nvidia-nvtx-cu12-12.1.105\n"
          ]
        }
      ],
      "source": [
        "pip install transformers[torch]"
      ]
    },
    {
      "cell_type": "code",
      "execution_count": 3,
      "metadata": {
        "colab": {
          "base_uri": "https://localhost:8080/"
        },
        "id": "5X3tUsG95I8X",
        "outputId": "c4f6566d-0be7-4173-8b6c-fa6be5ce038e"
      },
      "outputs": [
        {
          "output_type": "stream",
          "name": "stdout",
          "text": [
            "Collecting datasets\n",
            "  Downloading datasets-2.20.0-py3-none-any.whl.metadata (19 kB)\n",
            "Requirement already satisfied: filelock in /usr/local/lib/python3.10/dist-packages (from datasets) (3.15.4)\n",
            "Requirement already satisfied: numpy>=1.17 in /usr/local/lib/python3.10/dist-packages (from datasets) (1.26.4)\n",
            "Collecting pyarrow>=15.0.0 (from datasets)\n",
            "  Downloading pyarrow-17.0.0-cp310-cp310-manylinux_2_28_x86_64.whl.metadata (3.3 kB)\n",
            "Requirement already satisfied: pyarrow-hotfix in /usr/local/lib/python3.10/dist-packages (from datasets) (0.6)\n",
            "Collecting dill<0.3.9,>=0.3.0 (from datasets)\n",
            "  Downloading dill-0.3.8-py3-none-any.whl.metadata (10 kB)\n",
            "Requirement already satisfied: pandas in /usr/local/lib/python3.10/dist-packages (from datasets) (2.1.4)\n",
            "Requirement already satisfied: requests>=2.32.2 in /usr/local/lib/python3.10/dist-packages (from datasets) (2.32.3)\n",
            "Requirement already satisfied: tqdm>=4.66.3 in /usr/local/lib/python3.10/dist-packages (from datasets) (4.66.5)\n",
            "Collecting xxhash (from datasets)\n",
            "  Downloading xxhash-3.4.1-cp310-cp310-manylinux_2_17_x86_64.manylinux2014_x86_64.whl.metadata (12 kB)\n",
            "Collecting multiprocess (from datasets)\n",
            "  Downloading multiprocess-0.70.16-py310-none-any.whl.metadata (7.2 kB)\n",
            "Collecting fsspec<=2024.5.0,>=2023.1.0 (from fsspec[http]<=2024.5.0,>=2023.1.0->datasets)\n",
            "  Downloading fsspec-2024.5.0-py3-none-any.whl.metadata (11 kB)\n",
            "Requirement already satisfied: aiohttp in /usr/local/lib/python3.10/dist-packages (from datasets) (3.10.1)\n",
            "Requirement already satisfied: huggingface-hub>=0.21.2 in /usr/local/lib/python3.10/dist-packages (from datasets) (0.23.5)\n",
            "Requirement already satisfied: packaging in /usr/local/lib/python3.10/dist-packages (from datasets) (24.1)\n",
            "Requirement already satisfied: pyyaml>=5.1 in /usr/local/lib/python3.10/dist-packages (from datasets) (6.0.1)\n",
            "Requirement already satisfied: aiohappyeyeballs>=2.3.0 in /usr/local/lib/python3.10/dist-packages (from aiohttp->datasets) (2.3.4)\n",
            "Requirement already satisfied: aiosignal>=1.1.2 in /usr/local/lib/python3.10/dist-packages (from aiohttp->datasets) (1.3.1)\n",
            "Requirement already satisfied: attrs>=17.3.0 in /usr/local/lib/python3.10/dist-packages (from aiohttp->datasets) (24.1.0)\n",
            "Requirement already satisfied: frozenlist>=1.1.1 in /usr/local/lib/python3.10/dist-packages (from aiohttp->datasets) (1.4.1)\n",
            "Requirement already satisfied: multidict<7.0,>=4.5 in /usr/local/lib/python3.10/dist-packages (from aiohttp->datasets) (6.0.5)\n",
            "Requirement already satisfied: yarl<2.0,>=1.0 in /usr/local/lib/python3.10/dist-packages (from aiohttp->datasets) (1.9.4)\n",
            "Requirement already satisfied: async-timeout<5.0,>=4.0 in /usr/local/lib/python3.10/dist-packages (from aiohttp->datasets) (4.0.3)\n",
            "Requirement already satisfied: typing-extensions>=3.7.4.3 in /usr/local/lib/python3.10/dist-packages (from huggingface-hub>=0.21.2->datasets) (4.12.2)\n",
            "Requirement already satisfied: charset-normalizer<4,>=2 in /usr/local/lib/python3.10/dist-packages (from requests>=2.32.2->datasets) (3.3.2)\n",
            "Requirement already satisfied: idna<4,>=2.5 in /usr/local/lib/python3.10/dist-packages (from requests>=2.32.2->datasets) (3.7)\n",
            "Requirement already satisfied: urllib3<3,>=1.21.1 in /usr/local/lib/python3.10/dist-packages (from requests>=2.32.2->datasets) (2.0.7)\n",
            "Requirement already satisfied: certifi>=2017.4.17 in /usr/local/lib/python3.10/dist-packages (from requests>=2.32.2->datasets) (2024.7.4)\n",
            "Requirement already satisfied: python-dateutil>=2.8.2 in /usr/local/lib/python3.10/dist-packages (from pandas->datasets) (2.8.2)\n",
            "Requirement already satisfied: pytz>=2020.1 in /usr/local/lib/python3.10/dist-packages (from pandas->datasets) (2024.1)\n",
            "Requirement already satisfied: tzdata>=2022.1 in /usr/local/lib/python3.10/dist-packages (from pandas->datasets) (2024.1)\n",
            "Requirement already satisfied: six>=1.5 in /usr/local/lib/python3.10/dist-packages (from python-dateutil>=2.8.2->pandas->datasets) (1.16.0)\n",
            "Downloading datasets-2.20.0-py3-none-any.whl (547 kB)\n",
            "\u001b[2K   \u001b[90m━━━━━━━━━━━━━━━━━━━━━━━━━━━━━━━━━━━━━━━━\u001b[0m \u001b[32m547.8/547.8 kB\u001b[0m \u001b[31m26.8 MB/s\u001b[0m eta \u001b[36m0:00:00\u001b[0m\n",
            "\u001b[?25hDownloading dill-0.3.8-py3-none-any.whl (116 kB)\n",
            "\u001b[2K   \u001b[90m━━━━━━━━━━━━━━━━━━━━━━━━━━━━━━━━━━━━━━━━\u001b[0m \u001b[32m116.3/116.3 kB\u001b[0m \u001b[31m10.5 MB/s\u001b[0m eta \u001b[36m0:00:00\u001b[0m\n",
            "\u001b[?25hDownloading fsspec-2024.5.0-py3-none-any.whl (316 kB)\n",
            "\u001b[2K   \u001b[90m━━━━━━━━━━━━━━━━━━━━━━━━━━━━━━━━━━━━━━━━\u001b[0m \u001b[32m316.1/316.1 kB\u001b[0m \u001b[31m19.6 MB/s\u001b[0m eta \u001b[36m0:00:00\u001b[0m\n",
            "\u001b[?25hDownloading pyarrow-17.0.0-cp310-cp310-manylinux_2_28_x86_64.whl (39.9 MB)\n",
            "\u001b[2K   \u001b[90m━━━━━━━━━━━━━━━━━━━━━━━━━━━━━━━━━━━━━━━━\u001b[0m \u001b[32m39.9/39.9 MB\u001b[0m \u001b[31m15.1 MB/s\u001b[0m eta \u001b[36m0:00:00\u001b[0m\n",
            "\u001b[?25hDownloading multiprocess-0.70.16-py310-none-any.whl (134 kB)\n",
            "\u001b[2K   \u001b[90m━━━━━━━━━━━━━━━━━━━━━━━━━━━━━━━━━━━━━━━━\u001b[0m \u001b[32m134.8/134.8 kB\u001b[0m \u001b[31m6.5 MB/s\u001b[0m eta \u001b[36m0:00:00\u001b[0m\n",
            "\u001b[?25hDownloading xxhash-3.4.1-cp310-cp310-manylinux_2_17_x86_64.manylinux2014_x86_64.whl (194 kB)\n",
            "\u001b[2K   \u001b[90m━━━━━━━━━━━━━━━━━━━━━━━━━━━━━━━━━━━━━━━━\u001b[0m \u001b[32m194.1/194.1 kB\u001b[0m \u001b[31m16.8 MB/s\u001b[0m eta \u001b[36m0:00:00\u001b[0m\n",
            "\u001b[?25hInstalling collected packages: xxhash, pyarrow, fsspec, dill, multiprocess, datasets\n",
            "  Attempting uninstall: pyarrow\n",
            "    Found existing installation: pyarrow 14.0.2\n",
            "    Uninstalling pyarrow-14.0.2:\n",
            "      Successfully uninstalled pyarrow-14.0.2\n",
            "  Attempting uninstall: fsspec\n",
            "    Found existing installation: fsspec 2024.6.1\n",
            "    Uninstalling fsspec-2024.6.1:\n",
            "      Successfully uninstalled fsspec-2024.6.1\n",
            "\u001b[31mERROR: pip's dependency resolver does not currently take into account all the packages that are installed. This behaviour is the source of the following dependency conflicts.\n",
            "cudf-cu12 24.4.1 requires pyarrow<15.0.0a0,>=14.0.1, but you have pyarrow 17.0.0 which is incompatible.\n",
            "gcsfs 2024.6.1 requires fsspec==2024.6.1, but you have fsspec 2024.5.0 which is incompatible.\n",
            "ibis-framework 8.0.0 requires pyarrow<16,>=2, but you have pyarrow 17.0.0 which is incompatible.\u001b[0m\u001b[31m\n",
            "\u001b[0mSuccessfully installed datasets-2.20.0 dill-0.3.8 fsspec-2024.5.0 multiprocess-0.70.16 pyarrow-17.0.0 xxhash-3.4.1\n"
          ]
        }
      ],
      "source": [
        "!pip install datasets"
      ]
    },
    {
      "cell_type": "code",
      "execution_count": 4,
      "metadata": {
        "id": "WonAoyZbH9-x"
      },
      "outputs": [],
      "source": [
        "import pandas as pd\n",
        "import numpy as np\n",
        "import torch\n",
        "\n",
        "import re, string, unicodedata\n",
        "from torch.utils.data import DataLoader, Dataset\n",
        "from transformers import AutoTokenizer, AutoModelForSequenceClassification, AutoModel, Trainer, TrainingArguments\n",
        "from sklearn.model_selection import train_test_split\n",
        "from sklearn.svm import SVC\n",
        "from sklearn.ensemble import RandomForestClassifier\n",
        "from sklearn.metrics import f1_score, precision_score, accuracy_score, recall_score, roc_auc_score, roc_curve, precision_recall_fscore_support, matthews_corrcoef, classification_report,confusion_matrix,ConfusionMatrixDisplay\n",
        "import matplotlib.pyplot as plt\n",
        "import seaborn as sns\n",
        "from datasets import Dataset as HFDataset, DatasetDict, load_metric\n",
        "from imblearn.under_sampling import RandomUnderSampler\n",
        "from tqdm import tqdm\n",
        "import nltk"
      ]
    },
    {
      "cell_type": "code",
      "execution_count": 5,
      "metadata": {
        "colab": {
          "base_uri": "https://localhost:8080/"
        },
        "id": "bRNOlnoyIBI4",
        "outputId": "90738115-6390-4038-ab12-f6c63c69ddb0"
      },
      "outputs": [
        {
          "output_type": "stream",
          "name": "stdout",
          "text": [
            "Using device: cuda\n"
          ]
        }
      ],
      "source": [
        "device = torch.device('cuda' if torch.cuda.is_available() else 'cpu')\n",
        "print(f'Using device: {device}')"
      ]
    },
    {
      "cell_type": "code",
      "execution_count": 6,
      "metadata": {
        "colab": {
          "base_uri": "https://localhost:8080/"
        },
        "id": "0msXsXeTKIU3",
        "outputId": "1f151ad1-6c70-4e12-ce40-0cee526bd6c5"
      },
      "outputs": [
        {
          "output_type": "stream",
          "name": "stdout",
          "text": [
            "Mounted at /content/drive\n"
          ]
        }
      ],
      "source": [
        "from google.colab import drive\n",
        "drive.mount('/content/drive')"
      ]
    },
    {
      "cell_type": "code",
      "execution_count": 23,
      "metadata": {
        "id": "F9ngt0zSIf3B"
      },
      "outputs": [],
      "source": [
        "def excel_to_df(excel):\n",
        "    return pd.read_excel(excel)\n",
        "\n",
        "data = excel_to_df('/content/drive/MyDrive/dataset.xlsx')"
      ]
    },
    {
      "cell_type": "code",
      "execution_count": 24,
      "metadata": {
        "id": "nF25_vKMI-mI"
      },
      "outputs": [],
      "source": [
        "data['cleaned'] = data['cleaned'].astype(str)"
      ]
    },
    {
      "cell_type": "code",
      "execution_count": 25,
      "metadata": {
        "id": "ZSKW_6usKaAi"
      },
      "outputs": [],
      "source": [
        "# Under-sample the dataset\n",
        "X = data[['cleaned']]\n",
        "y = data['label']\n",
        "rus = RandomUnderSampler(random_state=1, replacement=True)\n",
        "X_new, y_new = rus.fit_resample(X, y)\n",
        "X_new = X_new.reset_index(drop=True)\n",
        "y_new = y_new.reset_index(drop=True)\n"
      ]
    },
    {
      "cell_type": "code",
      "execution_count": 26,
      "metadata": {
        "id": "Rsg12wJzKe7d"
      },
      "outputs": [],
      "source": [
        "df_new = X_new\n",
        "df_new['label'] = y_new\n"
      ]
    },
    {
      "cell_type": "code",
      "execution_count": 27,
      "metadata": {
        "id": "xFsgulLcKrOW"
      },
      "outputs": [],
      "source": [
        "# Split data into train/test sets\n",
        "df_train, df_test = train_test_split(df_new, test_size=0.2, random_state=1)\n",
        "df_train, df_eval = train_test_split(df_train, test_size=0.2, random_state=1)"
      ]
    },
    {
      "cell_type": "code",
      "execution_count": 28,
      "metadata": {
        "id": "JlMJZCiJKsFg"
      },
      "outputs": [],
      "source": [
        "# Convert to HuggingFace Datasets\n",
        "hf_train = HFDataset.from_pandas(df_train)\n",
        "hf_eval = HFDataset.from_pandas(df_eval)\n",
        "hf_test = HFDataset.from_pandas(df_test)\n"
      ]
    },
    {
      "cell_type": "code",
      "execution_count": 29,
      "metadata": {
        "id": "rb2o9QVDKviV"
      },
      "outputs": [],
      "source": [
        "dataset_full = DatasetDict({\n",
        "    'train': hf_train,\n",
        "    'eval': hf_eval,\n",
        "    'test': hf_test\n",
        "})"
      ]
    },
    {
      "cell_type": "code",
      "execution_count": 30,
      "metadata": {
        "colab": {
          "base_uri": "https://localhost:8080/"
        },
        "id": "VWfN3CDbKxmN",
        "outputId": "451e87ca-4fe8-43e1-ff9a-c5cbbdc4dead"
      },
      "outputs": [
        {
          "output_type": "stream",
          "name": "stderr",
          "text": [
            "/usr/local/lib/python3.10/dist-packages/huggingface_hub/file_download.py:1132: FutureWarning: `resume_download` is deprecated and will be removed in version 1.0.0. Downloads always resume when possible. If you want to force a new download, use `force_download=True`.\n",
            "  warnings.warn(\n"
          ]
        }
      ],
      "source": [
        "# Tokenize data\n",
        "tokenizer = AutoTokenizer.from_pretrained(\"indobenchmark/indobert-base-p1\")\n"
      ]
    },
    {
      "cell_type": "code",
      "execution_count": 31,
      "metadata": {
        "colab": {
          "base_uri": "https://localhost:8080/",
          "height": 113,
          "referenced_widgets": [
            "c5bfaf80da8b4c0daee1a49584faeb48",
            "7bf217e6740b447bb625ee259e6eba33",
            "768c05f28cb2471f93ca0b7d6a5b20bb",
            "33564d77e1254118815652623e531370",
            "06dbfe2790fa43d093ec870d9ca077d2",
            "cd468ebea7944ba2bc53c3b1a14779a0",
            "2c59f37dcaee46c0b40b69a53490e146",
            "3cda51cafd31482396111aaa9b4b9b7a",
            "7e3cb3f593824f5091678d1c862f7122",
            "4d0911c04f6c48978d747d40edf7f98b",
            "cbaff14d1afc430d9adf8f0bd1631663",
            "419de97285fb49c3a659cf67161a15e4",
            "8926af04612d45c3ae5d94f5f9aa0f8b",
            "05bd97dc566a4807bf16e6b3d1251b1c",
            "9ebba854f23e4bb5bb64dfcd4f4f016f",
            "b0a99555fd834cf7abacecad5faed2dc",
            "5101e90192b446bcad8fec5209409248",
            "0a03cf4f010a466983efd071e648baec",
            "47e8fdcf99a6489990ff228952adb00a",
            "96344bd22c564fee89de52589b422b87",
            "5ac4b7e70a014a04b6f762404c1fd1f2",
            "e65c170e6a2d4b9d9a1267c2987d05da",
            "55edd61129d549558b4f6334982d4925",
            "38e55adf83054701909032522f1c4ba6",
            "6b09117d31344e959eb6fb9471414f58",
            "ce772f350788469c8245b073b69b0e1f",
            "f5c2e8b0ebf146819c5b5c80b8dbe892",
            "b3b5eab19bcd4ebc9df2f7545eca6a0b",
            "12e28b82c8d74fad953909ceac9d649b",
            "71394ff171eb40368800f56872eb02e3",
            "504f4d9651894abb83df6f9942ce5321",
            "6cd2d76f138440678ce5ca7153f9ac2b",
            "caed37394ea6467498fe151492c4c4b9"
          ]
        },
        "id": "5RggCChpK1Ld",
        "outputId": "557d3c61-15d3-4849-f95e-917d70f561a6"
      },
      "outputs": [
        {
          "output_type": "display_data",
          "data": {
            "text/plain": [
              "Map:   0%|          | 0/8322 [00:00<?, ? examples/s]"
            ],
            "application/vnd.jupyter.widget-view+json": {
              "version_major": 2,
              "version_minor": 0,
              "model_id": "c5bfaf80da8b4c0daee1a49584faeb48"
            }
          },
          "metadata": {}
        },
        {
          "output_type": "display_data",
          "data": {
            "text/plain": [
              "Map:   0%|          | 0/2081 [00:00<?, ? examples/s]"
            ],
            "application/vnd.jupyter.widget-view+json": {
              "version_major": 2,
              "version_minor": 0,
              "model_id": "419de97285fb49c3a659cf67161a15e4"
            }
          },
          "metadata": {}
        },
        {
          "output_type": "display_data",
          "data": {
            "text/plain": [
              "Map:   0%|          | 0/2601 [00:00<?, ? examples/s]"
            ],
            "application/vnd.jupyter.widget-view+json": {
              "version_major": 2,
              "version_minor": 0,
              "model_id": "55edd61129d549558b4f6334982d4925"
            }
          },
          "metadata": {}
        }
      ],
      "source": [
        "def tokenize_dataset(data):\n",
        "    return tokenizer(data[\"cleaned\"], padding=True, truncation=True, max_length=512)\n",
        "\n",
        "dataset_full = dataset_full.map(tokenize_dataset, batched=True)\n",
        "dataset_full = dataset_full.remove_columns([\"cleaned\"])"
      ]
    },
    {
      "cell_type": "code",
      "execution_count": 32,
      "metadata": {
        "colab": {
          "base_uri": "https://localhost:8080/"
        },
        "id": "zD-p3-1mK4lq",
        "outputId": "9e184be7-0395-46b7-8528-078b346ba6d0"
      },
      "outputs": [
        {
          "output_type": "stream",
          "name": "stderr",
          "text": [
            "Some weights of BertForSequenceClassification were not initialized from the model checkpoint at indobenchmark/indobert-base-p1 and are newly initialized: ['classifier.weight', 'classifier.bias']\n",
            "You should probably TRAIN this model on a down-stream task to be able to use it for predictions and inference.\n"
          ]
        }
      ],
      "source": [
        "# Prepare BERT model for sequence classification\n",
        "model = AutoModelForSequenceClassification.from_pretrained(\"indobenchmark/indobert-base-p1\", num_labels=2)\n",
        "model = model.to(device)"
      ]
    },
    {
      "cell_type": "code",
      "execution_count": 33,
      "metadata": {
        "id": "d2fzcBnRXo-A"
      },
      "outputs": [],
      "source": [
        "import torch\n",
        "from transformers import AdamW\n"
      ]
    },
    {
      "cell_type": "code",
      "execution_count": 34,
      "metadata": {
        "id": "-_N9BwUhK7e3"
      },
      "outputs": [],
      "source": [
        "# Training arguments for BERT model\n",
        "training_args = TrainingArguments(\n",
        "    output_dir=\"results\",\n",
        "    evaluation_strategy=\"epoch\",\n",
        "    save_strategy=\"epoch\",\n",
        "    learning_rate=2e-5,\n",
        "    per_device_train_batch_size=8,\n",
        "    per_device_eval_batch_size=16,\n",
        "    num_train_epochs=5,\n",
        "    weight_decay=0.01,\n",
        "    logging_dir=\"./logs\",\n",
        "    load_best_model_at_end=True,\n",
        "    metric_for_best_model=\"f1\",\n",
        "    push_to_hub=False,\n",
        "    report_to=\"none\"\n",
        ")"
      ]
    },
    {
      "cell_type": "code",
      "execution_count": 35,
      "metadata": {
        "id": "PIVg0b5HK_4g"
      },
      "outputs": [],
      "source": [
        "# Compute metrics function for BERT model\n",
        "def compute_metrics(eval_pred):\n",
        "    predictions, labels = eval_pred\n",
        "    predictions = np.argmax(predictions, axis=1)\n",
        "    precision, recall, f1, _ = precision_recall_fscore_support(labels, predictions, average='binary')\n",
        "    accuracy = accuracy_score(labels, predictions)\n",
        "    roc_auc = roc_auc_score(labels, predictions)\n",
        "    return {\n",
        "        'accuracy': accuracy,\n",
        "        'precision': precision,\n",
        "        'recall': recall,\n",
        "        'f1': f1,\n",
        "        'roc_auc': roc_auc\n",
        "    }\n"
      ]
    },
    {
      "cell_type": "code",
      "execution_count": 36,
      "metadata": {
        "id": "j8OMn3zjLE4c"
      },
      "outputs": [],
      "source": [
        "# Train BERT model\n",
        "trainer = Trainer(\n",
        "    model=model,\n",
        "    args=training_args,\n",
        "    train_dataset=dataset_full[\"train\"],\n",
        "    eval_dataset=dataset_full[\"eval\"],\n",
        "    tokenizer=tokenizer,\n",
        "    compute_metrics=compute_metrics,\n",
        ")\n"
      ]
    },
    {
      "cell_type": "code",
      "execution_count": 37,
      "metadata": {
        "colab": {
          "base_uri": "https://localhost:8080/",
          "height": 339
        },
        "id": "SQeKJgpBLHP2",
        "outputId": "f32f6a2c-1f72-4537-eb28-b93e32009d28"
      },
      "outputs": [
        {
          "output_type": "stream",
          "name": "stderr",
          "text": [
            "/usr/local/lib/python3.10/dist-packages/transformers/optimization.py:411: FutureWarning: This implementation of AdamW is deprecated and will be removed in a future version. Use the PyTorch implementation torch.optim.AdamW instead, or set `no_deprecation_warning=True` to disable this warning\n",
            "  warnings.warn(\n",
            "You're using a BertTokenizerFast tokenizer. Please note that with a fast tokenizer, using the `__call__` method is faster than using a method to encode the text followed by a call to the `pad` method to get a padded encoding.\n"
          ]
        },
        {
          "output_type": "display_data",
          "data": {
            "text/plain": [
              "<IPython.core.display.HTML object>"
            ],
            "text/html": [
              "\n",
              "    <div>\n",
              "      \n",
              "      <progress value='5205' max='5205' style='width:300px; height:20px; vertical-align: middle;'></progress>\n",
              "      [5205/5205 1:08:29, Epoch 5/5]\n",
              "    </div>\n",
              "    <table border=\"1\" class=\"dataframe\">\n",
              "  <thead>\n",
              " <tr style=\"text-align: left;\">\n",
              "      <th>Epoch</th>\n",
              "      <th>Training Loss</th>\n",
              "      <th>Validation Loss</th>\n",
              "      <th>Accuracy</th>\n",
              "      <th>Precision</th>\n",
              "      <th>Recall</th>\n",
              "      <th>F1</th>\n",
              "      <th>Roc Auc</th>\n",
              "    </tr>\n",
              "  </thead>\n",
              "  <tbody>\n",
              "    <tr>\n",
              "      <td>1</td>\n",
              "      <td>0.124100</td>\n",
              "      <td>0.109505</td>\n",
              "      <td>0.975493</td>\n",
              "      <td>0.973807</td>\n",
              "      <td>0.978383</td>\n",
              "      <td>0.976090</td>\n",
              "      <td>0.975426</td>\n",
              "    </tr>\n",
              "    <tr>\n",
              "      <td>2</td>\n",
              "      <td>0.044900</td>\n",
              "      <td>0.104515</td>\n",
              "      <td>0.979817</td>\n",
              "      <td>0.983902</td>\n",
              "      <td>0.976504</td>\n",
              "      <td>0.980189</td>\n",
              "      <td>0.979894</td>\n",
              "    </tr>\n",
              "    <tr>\n",
              "      <td>3</td>\n",
              "      <td>0.015400</td>\n",
              "      <td>0.117190</td>\n",
              "      <td>0.979337</td>\n",
              "      <td>0.985728</td>\n",
              "      <td>0.973684</td>\n",
              "      <td>0.979669</td>\n",
              "      <td>0.979467</td>\n",
              "    </tr>\n",
              "    <tr>\n",
              "      <td>4</td>\n",
              "      <td>0.002100</td>\n",
              "      <td>0.121769</td>\n",
              "      <td>0.980778</td>\n",
              "      <td>0.984848</td>\n",
              "      <td>0.977444</td>\n",
              "      <td>0.981132</td>\n",
              "      <td>0.980856</td>\n",
              "    </tr>\n",
              "    <tr>\n",
              "      <td>5</td>\n",
              "      <td>0.000000</td>\n",
              "      <td>0.136140</td>\n",
              "      <td>0.979817</td>\n",
              "      <td>0.988528</td>\n",
              "      <td>0.971805</td>\n",
              "      <td>0.980095</td>\n",
              "      <td>0.980003</td>\n",
              "    </tr>\n",
              "  </tbody>\n",
              "</table><p>"
            ]
          },
          "metadata": {}
        },
        {
          "output_type": "execute_result",
          "data": {
            "text/plain": [
              "TrainOutput(global_step=5205, training_loss=0.045666611625828156, metrics={'train_runtime': 4111.853, 'train_samples_per_second': 10.12, 'train_steps_per_second': 1.266, 'total_flos': 1.09480510135296e+16, 'train_loss': 0.045666611625828156, 'epoch': 5.0})"
            ]
          },
          "metadata": {},
          "execution_count": 37
        }
      ],
      "source": [
        "trainer.train()"
      ]
    },
    {
      "cell_type": "markdown",
      "metadata": {
        "id": "10MBWpzBLYhW"
      },
      "source": [
        "# Extract BERT embeddings"
      ]
    },
    {
      "cell_type": "code",
      "execution_count": 38,
      "metadata": {
        "id": "5wXzDz7xLKnl"
      },
      "outputs": [],
      "source": [
        "\n",
        "class BERTEmbeddingsDataset(Dataset):\n",
        "    def __init__(self, texts, tokenizer, max_len):\n",
        "        self.texts = texts\n",
        "        self.tokenizer = tokenizer\n",
        "        self.max_len = max_len\n",
        "\n",
        "    def __len__(self):\n",
        "        return len(self.texts)\n",
        "\n",
        "    def __getitem__(self, idx):\n",
        "        text = self.texts[idx]\n",
        "        encoding = self.tokenizer.encode_plus(\n",
        "            text,\n",
        "            add_special_tokens=True,\n",
        "            max_length=self.max_len,\n",
        "            return_token_type_ids=False,\n",
        "            padding='max_length',\n",
        "            return_attention_mask=True,\n",
        "            return_tensors='pt',\n",
        "            truncation=True,\n",
        "        )\n",
        "        return {\n",
        "            'input_ids': encoding['input_ids'].flatten(),\n",
        "            'attention_mask': encoding['attention_mask'].flatten()\n",
        "        }\n"
      ]
    },
    {
      "cell_type": "code",
      "execution_count": 39,
      "metadata": {
        "id": "ybRRrHYbLc7r"
      },
      "outputs": [],
      "source": [
        "def create_data_loader(df, tokenizer, max_len, batch_size):\n",
        "    ds = BERTEmbeddingsDataset(\n",
        "        texts=df.cleaned.to_numpy(),\n",
        "        tokenizer=tokenizer,\n",
        "        max_len=max_len\n",
        "    )\n",
        "    return DataLoader(ds, batch_size=batch_size, num_workers=4)\n"
      ]
    },
    {
      "cell_type": "code",
      "execution_count": 40,
      "metadata": {
        "colab": {
          "base_uri": "https://localhost:8080/"
        },
        "id": "F4bCPSRZLfdk",
        "outputId": "d7e2145c-db70-4154-e2ac-f428b4d897b4"
      },
      "outputs": [
        {
          "output_type": "stream",
          "name": "stderr",
          "text": [
            "/usr/local/lib/python3.10/dist-packages/torch/utils/data/dataloader.py:558: UserWarning: This DataLoader will create 4 worker processes in total. Our suggested max number of worker in current system is 2, which is smaller than what this DataLoader is going to create. Please be aware that excessive worker creation might get DataLoader running slow or even freeze, lower the worker number to avoid potential slowness/freeze if necessary.\n",
            "  warnings.warn(_create_warning_msg(\n"
          ]
        }
      ],
      "source": [
        "data_loader = create_data_loader(df_new, tokenizer, max_len=128, batch_size=16)\n"
      ]
    },
    {
      "cell_type": "code",
      "execution_count": 41,
      "metadata": {
        "colab": {
          "base_uri": "https://localhost:8080/"
        },
        "id": "8AW9cLe0Lhi0",
        "outputId": "58ed51c7-a8be-4f5d-93c8-1dab07a8ebf9"
      },
      "outputs": [
        {
          "output_type": "stream",
          "name": "stderr",
          "text": [
            "/usr/local/lib/python3.10/dist-packages/huggingface_hub/file_download.py:1132: FutureWarning: `resume_download` is deprecated and will be removed in version 1.0.0. Downloads always resume when possible. If you want to force a new download, use `force_download=True`.\n",
            "  warnings.warn(\n"
          ]
        }
      ],
      "source": [
        "bert_model = AutoModel.from_pretrained(\"indobenchmark/indobert-base-p1\")\n",
        "bert_model = bert_model.to(device)\n"
      ]
    },
    {
      "cell_type": "code",
      "execution_count": 42,
      "metadata": {
        "id": "cikwaMwjLjqx"
      },
      "outputs": [],
      "source": [
        "def extract_embeddings(data_loader, model, device):\n",
        "    model.eval()\n",
        "    embeddings = []\n",
        "    labels = []\n",
        "\n",
        "    with torch.no_grad():\n",
        "        for d in tqdm(data_loader):\n",
        "            input_ids = d['input_ids'].to(device)\n",
        "            attention_mask = d['attention_mask'].to(device)\n",
        "\n",
        "            outputs = model(input_ids=input_ids, attention_mask=attention_mask)\n",
        "            embeddings.append(outputs.last_hidden_state[:, 0, :].cpu().numpy())\n",
        "\n",
        "    embeddings = np.concatenate(embeddings, axis=0)\n",
        "    return embeddings"
      ]
    },
    {
      "cell_type": "code",
      "execution_count": 43,
      "metadata": {
        "colab": {
          "base_uri": "https://localhost:8080/"
        },
        "id": "-i7x0Fx9Lmbd",
        "outputId": "ab74a752-f5aa-42e5-865c-013c5cbf0fa7"
      },
      "outputs": [
        {
          "output_type": "stream",
          "name": "stderr",
          "text": [
            "\r  0%|          | 0/813 [00:00<?, ?it/s]/usr/lib/python3.10/multiprocessing/popen_fork.py:66: RuntimeWarning: os.fork() was called. os.fork() is incompatible with multithreaded code, and JAX is multithreaded, so this will likely lead to a deadlock.\n",
            "  self.pid = os.fork()\n",
            "100%|██████████| 813/813 [01:37<00:00,  8.36it/s]\n"
          ]
        }
      ],
      "source": [
        "X_bert = extract_embeddings(data_loader, bert_model, device)\n",
        "\n",
        "# Train SVM and Random Forest on BERT embeddings\n",
        "X_train, X_test, y_train, y_test = train_test_split(X_bert, y_new, test_size=0.2, random_state=42)\n"
      ]
    },
    {
      "cell_type": "code",
      "execution_count": 44,
      "metadata": {
        "id": "gUocHsOkLpBb"
      },
      "outputs": [],
      "source": [
        "svm_model = SVC(probability=True,C=1,gamma= 0.1, kernel='linear')\n",
        "rf_model = RandomForestClassifier(n_estimators=100, random_state=42)"
      ]
    },
    {
      "cell_type": "code",
      "execution_count": 45,
      "metadata": {
        "colab": {
          "base_uri": "https://localhost:8080/",
          "height": 74
        },
        "id": "-7Ucv85XL0Yf",
        "outputId": "71f3094b-4818-40e2-af38-ffc6bbb392f2"
      },
      "outputs": [
        {
          "output_type": "execute_result",
          "data": {
            "text/plain": [
              "RandomForestClassifier(random_state=42)"
            ],
            "text/html": [
              "<style>#sk-container-id-1 {color: black;}#sk-container-id-1 pre{padding: 0;}#sk-container-id-1 div.sk-toggleable {background-color: white;}#sk-container-id-1 label.sk-toggleable__label {cursor: pointer;display: block;width: 100%;margin-bottom: 0;padding: 0.3em;box-sizing: border-box;text-align: center;}#sk-container-id-1 label.sk-toggleable__label-arrow:before {content: \"▸\";float: left;margin-right: 0.25em;color: #696969;}#sk-container-id-1 label.sk-toggleable__label-arrow:hover:before {color: black;}#sk-container-id-1 div.sk-estimator:hover label.sk-toggleable__label-arrow:before {color: black;}#sk-container-id-1 div.sk-toggleable__content {max-height: 0;max-width: 0;overflow: hidden;text-align: left;background-color: #f0f8ff;}#sk-container-id-1 div.sk-toggleable__content pre {margin: 0.2em;color: black;border-radius: 0.25em;background-color: #f0f8ff;}#sk-container-id-1 input.sk-toggleable__control:checked~div.sk-toggleable__content {max-height: 200px;max-width: 100%;overflow: auto;}#sk-container-id-1 input.sk-toggleable__control:checked~label.sk-toggleable__label-arrow:before {content: \"▾\";}#sk-container-id-1 div.sk-estimator input.sk-toggleable__control:checked~label.sk-toggleable__label {background-color: #d4ebff;}#sk-container-id-1 div.sk-label input.sk-toggleable__control:checked~label.sk-toggleable__label {background-color: #d4ebff;}#sk-container-id-1 input.sk-hidden--visually {border: 0;clip: rect(1px 1px 1px 1px);clip: rect(1px, 1px, 1px, 1px);height: 1px;margin: -1px;overflow: hidden;padding: 0;position: absolute;width: 1px;}#sk-container-id-1 div.sk-estimator {font-family: monospace;background-color: #f0f8ff;border: 1px dotted black;border-radius: 0.25em;box-sizing: border-box;margin-bottom: 0.5em;}#sk-container-id-1 div.sk-estimator:hover {background-color: #d4ebff;}#sk-container-id-1 div.sk-parallel-item::after {content: \"\";width: 100%;border-bottom: 1px solid gray;flex-grow: 1;}#sk-container-id-1 div.sk-label:hover label.sk-toggleable__label {background-color: #d4ebff;}#sk-container-id-1 div.sk-serial::before {content: \"\";position: absolute;border-left: 1px solid gray;box-sizing: border-box;top: 0;bottom: 0;left: 50%;z-index: 0;}#sk-container-id-1 div.sk-serial {display: flex;flex-direction: column;align-items: center;background-color: white;padding-right: 0.2em;padding-left: 0.2em;position: relative;}#sk-container-id-1 div.sk-item {position: relative;z-index: 1;}#sk-container-id-1 div.sk-parallel {display: flex;align-items: stretch;justify-content: center;background-color: white;position: relative;}#sk-container-id-1 div.sk-item::before, #sk-container-id-1 div.sk-parallel-item::before {content: \"\";position: absolute;border-left: 1px solid gray;box-sizing: border-box;top: 0;bottom: 0;left: 50%;z-index: -1;}#sk-container-id-1 div.sk-parallel-item {display: flex;flex-direction: column;z-index: 1;position: relative;background-color: white;}#sk-container-id-1 div.sk-parallel-item:first-child::after {align-self: flex-end;width: 50%;}#sk-container-id-1 div.sk-parallel-item:last-child::after {align-self: flex-start;width: 50%;}#sk-container-id-1 div.sk-parallel-item:only-child::after {width: 0;}#sk-container-id-1 div.sk-dashed-wrapped {border: 1px dashed gray;margin: 0 0.4em 0.5em 0.4em;box-sizing: border-box;padding-bottom: 0.4em;background-color: white;}#sk-container-id-1 div.sk-label label {font-family: monospace;font-weight: bold;display: inline-block;line-height: 1.2em;}#sk-container-id-1 div.sk-label-container {text-align: center;}#sk-container-id-1 div.sk-container {/* jupyter's `normalize.less` sets `[hidden] { display: none; }` but bootstrap.min.css set `[hidden] { display: none !important; }` so we also need the `!important` here to be able to override the default hidden behavior on the sphinx rendered scikit-learn.org. See: https://github.com/scikit-learn/scikit-learn/issues/21755 */display: inline-block !important;position: relative;}#sk-container-id-1 div.sk-text-repr-fallback {display: none;}</style><div id=\"sk-container-id-1\" class=\"sk-top-container\"><div class=\"sk-text-repr-fallback\"><pre>RandomForestClassifier(random_state=42)</pre><b>In a Jupyter environment, please rerun this cell to show the HTML representation or trust the notebook. <br />On GitHub, the HTML representation is unable to render, please try loading this page with nbviewer.org.</b></div><div class=\"sk-container\" hidden><div class=\"sk-item\"><div class=\"sk-estimator sk-toggleable\"><input class=\"sk-toggleable__control sk-hidden--visually\" id=\"sk-estimator-id-1\" type=\"checkbox\" checked><label for=\"sk-estimator-id-1\" class=\"sk-toggleable__label sk-toggleable__label-arrow\">RandomForestClassifier</label><div class=\"sk-toggleable__content\"><pre>RandomForestClassifier(random_state=42)</pre></div></div></div></div></div>"
            ]
          },
          "metadata": {},
          "execution_count": 45
        }
      ],
      "source": [
        "svm_model.fit(X_train, y_train)\n",
        "rf_model.fit(X_train, y_train)"
      ]
    },
    {
      "cell_type": "code",
      "execution_count": 46,
      "metadata": {
        "id": "hhvokjVjL2Qo"
      },
      "outputs": [],
      "source": [
        "svm_pred = svm_model.predict(X_test)\n",
        "rf_pred = rf_model.predict(X_test)\n"
      ]
    },
    {
      "cell_type": "code",
      "execution_count": 47,
      "metadata": {
        "id": "WZ9px4MNL4Zx"
      },
      "outputs": [],
      "source": [
        "# Evaluate models\n",
        "def evaluate_model(y_true, y_pred, model_name):\n",
        "    precision = precision_score(y_true, y_pred)\n",
        "    recall = recall_score(y_true, y_pred)\n",
        "    f1 = f1_score(y_true, y_pred)\n",
        "    accuracy = accuracy_score(y_true, y_pred)\n",
        "    print(f\"{model_name} Model - Precision: {precision}, Recall: {recall}, F1: {f1}, Accuracy: {accuracy}\")\n",
        "    return precision, recall, f1, accuracy"
      ]
    },
    {
      "cell_type": "code",
      "execution_count": 48,
      "metadata": {
        "colab": {
          "base_uri": "https://localhost:8080/",
          "height": 17
        },
        "id": "TlxPtWOIa79X",
        "outputId": "01158c7d-85aa-4e87-e1b1-27e5df4974a9"
      },
      "outputs": [
        {
          "output_type": "display_data",
          "data": {
            "text/plain": [
              "<IPython.core.display.HTML object>"
            ],
            "text/html": []
          },
          "metadata": {}
        }
      ],
      "source": [
        "pred_output = trainer.predict(test_dataset=dataset_full[\"test\"])"
      ]
    },
    {
      "cell_type": "code",
      "execution_count": 49,
      "metadata": {
        "colab": {
          "base_uri": "https://localhost:8080/",
          "height": 17
        },
        "id": "95jIpedSboIf",
        "outputId": "bf14f8a1-21f2-4875-c6f7-7ff04dc09f52"
      },
      "outputs": [
        {
          "output_type": "display_data",
          "data": {
            "text/plain": [
              "<IPython.core.display.HTML object>"
            ],
            "text/html": []
          },
          "metadata": {}
        }
      ],
      "source": [
        "pred_output_eval = trainer.predict(test_dataset=dataset_full[\"eval\"])"
      ]
    },
    {
      "cell_type": "code",
      "execution_count": 50,
      "metadata": {
        "id": "aJubwerVGLl6"
      },
      "outputs": [],
      "source": [
        "pred_label_eval = np.argmax(pred_output_eval.predictions, axis=1)\n",
        "gt_label_eval = dataset_full[\"eval\"]['label']\n"
      ]
    },
    {
      "cell_type": "code",
      "execution_count": 51,
      "metadata": {
        "id": "obZn2dA5dQzL"
      },
      "outputs": [],
      "source": [
        "pred_label = np.argmax(pred_output.predictions, axis=1)\n",
        "gt_label = dataset_full[\"test\"]['label']"
      ]
    },
    {
      "cell_type": "code",
      "execution_count": 52,
      "metadata": {
        "colab": {
          "base_uri": "https://localhost:8080/"
        },
        "id": "cAu1PPkMb9zH",
        "outputId": "f1f761b7-9f04-414c-fcee-674d551ec677"
      },
      "outputs": [
        {
          "output_type": "execute_result",
          "data": {
            "text/plain": [
              "{'test_loss': 0.09116686880588531,\n",
              " 'test_accuracy': 0.988081507112649,\n",
              " 'test_precision': 0.9883086515978177,\n",
              " 'test_recall': 0.9875389408099688,\n",
              " 'test_f1': 0.987923646279704,\n",
              " 'test_roc_auc': 0.9880747095849388,\n",
              " 'test_runtime': 84.5385,\n",
              " 'test_samples_per_second': 30.767,\n",
              " 'test_steps_per_second': 1.928}"
            ]
          },
          "metadata": {},
          "execution_count": 52
        }
      ],
      "source": [
        "pred_output.metrics"
      ]
    },
    {
      "cell_type": "code",
      "source": [
        "ConfusionMatrixDisplay.from_predictions(pred_label, gt_label);"
      ],
      "metadata": {
        "colab": {
          "base_uri": "https://localhost:8080/",
          "height": 449
        },
        "id": "tF4XVr-i-CSd",
        "outputId": "fe1d25de-0342-4cf3-bef6-8f6d55d498c4"
      },
      "execution_count": 53,
      "outputs": [
        {
          "output_type": "display_data",
          "data": {
            "text/plain": [
              "<Figure size 640x480 with 2 Axes>"
            ],
            "image/png": "[encoded data removed]"
          },
          "metadata": {}
        }
      ]
    },
    {
      "cell_type": "code",
      "source": [
        "# take it from tokenized data instead of input\n",
        "test_data = tokenizer.batch_decode(dataset_full[\"test\"]['input_ids'], skip_special_tokens=True)\n",
        "\n",
        "# create gt and prediction comparation\n",
        "pred_compare = []\n",
        "for i, news in enumerate(test_data):\n",
        "    pred_compare.append([news, gt_label[i], pred_label[i]])\n",
        "\n",
        "# turn it to dataframe for easy processing\n",
        "df_pred_compare = pd.DataFrame(pred_compare)\n",
        "df_pred_compare = df_pred_compare.rename(columns={0:'news', 1:'labels', 2:'prediction'})\n",
        "df_pred_compare.to_excel('predictions.xlsx')\n",
        "df_pred_compare"
      ],
      "metadata": {
        "colab": {
          "base_uri": "https://localhost:8080/",
          "height": 423
        },
        "id": "mhlyOCB2-E56",
        "outputId": "5501c8f4-497e-4275-df4e-b336b14f85a3"
      },
      "execution_count": 54,
      "outputs": [
        {
          "output_type": "execute_result",
          "data": {
            "text/plain": [
              "                                                   news  labels  prediction\n",
              "0     hadap ribu serang sibar menkumham bentuk csirt...       0           0\n",
              "1     daftar orang kaya asia jokow milyader usd no l...       1           1\n",
              "2     koalisi ubah petinggi menasdem berte salim seg...       0           0\n",
              "3     menit makan bawang mentah kupas garam batu ora...       1           1\n",
              "4                         akun twitter bank bsi bankbsi       1           1\n",
              "...                                                 ...     ...         ...\n",
              "2596  memenkumham paspor wni turun filipina anak sta...       0           0\n",
              "2597  jokow sambut kunjung presiden timor leste jose...       0           0\n",
              "2598  tegang hubung pkb pbnu nilai bikin partai piki...       0           0\n",
              "2599  innaa lillaah wa innaa ilaih roo jiuun allahum...       1           1\n",
              "2600  kabid humas polda metro jaya kombes pol argo y...       1           1\n",
              "\n",
              "[2601 rows x 3 columns]"
            ],
            "text/html": [
              "\n",
              "  <div id=\"df-84e2e9c4-78a1-4951-a38b-3c892ddef3af\" class=\"colab-df-container\">\n",
              "    <div>\n",
              "<style scoped>\n",
              "    .dataframe tbody tr th:only-of-type {\n",
              "        vertical-align: middle;\n",
              "    }\n",
              "\n",
              "    .dataframe tbody tr th {\n",
              "        vertical-align: top;\n",
              "    }\n",
              "\n",
              "    .dataframe thead th {\n",
              "        text-align: right;\n",
              "    }\n",
              "</style>\n",
              "<table border=\"1\" class=\"dataframe\">\n",
              "  <thead>\n",
              "    <tr style=\"text-align: right;\">\n",
              "      <th></th>\n",
              "      <th>news</th>\n",
              "      <th>labels</th>\n",
              "      <th>prediction</th>\n",
              "    </tr>\n",
              "  </thead>\n",
              "  <tbody>\n",
              "    <tr>\n",
              "      <th>0</th>\n",
              "      <td>hadap ribu serang sibar menkumham bentuk csirt...</td>\n",
              "      <td>0</td>\n",
              "      <td>0</td>\n",
              "    </tr>\n",
              "    <tr>\n",
              "      <th>1</th>\n",
              "      <td>daftar orang kaya asia jokow milyader usd no l...</td>\n",
              "      <td>1</td>\n",
              "      <td>1</td>\n",
              "    </tr>\n",
              "    <tr>\n",
              "      <th>2</th>\n",
              "      <td>koalisi ubah petinggi menasdem berte salim seg...</td>\n",
              "      <td>0</td>\n",
              "      <td>0</td>\n",
              "    </tr>\n",
              "    <tr>\n",
              "      <th>3</th>\n",
              "      <td>menit makan bawang mentah kupas garam batu ora...</td>\n",
              "      <td>1</td>\n",
              "      <td>1</td>\n",
              "    </tr>\n",
              "    <tr>\n",
              "      <th>4</th>\n",
              "      <td>akun twitter bank bsi bankbsi</td>\n",
              "      <td>1</td>\n",
              "      <td>1</td>\n",
              "    </tr>\n",
              "    <tr>\n",
              "      <th>...</th>\n",
              "      <td>...</td>\n",
              "      <td>...</td>\n",
              "      <td>...</td>\n",
              "    </tr>\n",
              "    <tr>\n",
              "      <th>2596</th>\n",
              "      <td>memenkumham paspor wni turun filipina anak sta...</td>\n",
              "      <td>0</td>\n",
              "      <td>0</td>\n",
              "    </tr>\n",
              "    <tr>\n",
              "      <th>2597</th>\n",
              "      <td>jokow sambut kunjung presiden timor leste jose...</td>\n",
              "      <td>0</td>\n",
              "      <td>0</td>\n",
              "    </tr>\n",
              "    <tr>\n",
              "      <th>2598</th>\n",
              "      <td>tegang hubung pkb pbnu nilai bikin partai piki...</td>\n",
              "      <td>0</td>\n",
              "      <td>0</td>\n",
              "    </tr>\n",
              "    <tr>\n",
              "      <th>2599</th>\n",
              "      <td>innaa lillaah wa innaa ilaih roo jiuun allahum...</td>\n",
              "      <td>1</td>\n",
              "      <td>1</td>\n",
              "    </tr>\n",
              "    <tr>\n",
              "      <th>2600</th>\n",
              "      <td>kabid humas polda metro jaya kombes pol argo y...</td>\n",
              "      <td>1</td>\n",
              "      <td>1</td>\n",
              "    </tr>\n",
              "  </tbody>\n",
              "</table>\n",
              "<p>2601 rows × 3 columns</p>\n",
              "</div>\n",
              "    <div class=\"colab-df-buttons\">\n",
              "\n",
              "  <div class=\"colab-df-container\">\n",
              "    <button class=\"colab-df-convert\" onclick=\"convertToInteractive('df-84e2e9c4-78a1-4951-a38b-3c892ddef3af')\"\n",
              "            title=\"Convert this dataframe to an interactive table.\"\n",
              "            style=\"display:none;\">\n",
              "\n",
              "  <svg xmlns=\"http://www.w3.org/2000/svg\" height=\"24px\" viewBox=\"0 -960 960 960\">\n",
              "    <path d=\"M120-120v-720h720v720H120Zm60-500h600v-160H180v160Zm220 220h160v-160H400v160Zm0 220h160v-160H400v160ZM180-400h160v-160H180v160Zm440 0h160v-160H620v160ZM180-180h160v-160H180v160Zm440 0h160v-160H620v160Z\"/>\n",
              "  </svg>\n",
              "    </button>\n",
              "\n",
              "  <style>\n",
              "    .colab-df-container {\n",
              "      display:flex;\n",
              "      gap: 12px;\n",
              "    }\n",
              "\n",
              "    .colab-df-convert {\n",
              "      background-color: #E8F0FE;\n",
              "      border: none;\n",
              "      border-radius: 50%;\n",
              "      cursor: pointer;\n",
              "      display: none;\n",
              "      fill: #1967D2;\n",
              "      height: 32px;\n",
              "      padding: 0 0 0 0;\n",
              "      width: 32px;\n",
              "    }\n",
              "\n",
              "    .colab-df-convert:hover {\n",
              "      background-color: #E2EBFA;\n",
              "      box-shadow: 0px 1px 2px rgba(60, 64, 67, 0.3), 0px 1px 3px 1px rgba(60, 64, 67, 0.15);\n",
              "      fill: #174EA6;\n",
              "    }\n",
              "\n",
              "    .colab-df-buttons div {\n",
              "      margin-bottom: 4px;\n",
              "    }\n",
              "\n",
              "    [theme=dark] .colab-df-convert {\n",
              "      background-color: #3B4455;\n",
              "      fill: #D2E3FC;\n",
              "    }\n",
              "\n",
              "    [theme=dark] .colab-df-convert:hover {\n",
              "      background-color: #434B5C;\n",
              "      box-shadow: 0px 1px 3px 1px rgba(0, 0, 0, 0.15);\n",
              "      filter: drop-shadow(0px 1px 2px rgba(0, 0, 0, 0.3));\n",
              "      fill: #FFFFFF;\n",
              "    }\n",
              "  </style>\n",
              "\n",
              "    <script>\n",
              "      const buttonEl =\n",
              "        document.querySelector('#df-84e2e9c4-78a1-4951-a38b-3c892ddef3af button.colab-df-convert');\n",
              "      buttonEl.style.display =\n",
              "        google.colab.kernel.accessAllowed ? 'block' : 'none';\n",
              "\n",
              "      async function convertToInteractive(key) {\n",
              "        const element = document.querySelector('#df-84e2e9c4-78a1-4951-a38b-3c892ddef3af');\n",
              "        const dataTable =\n",
              "          await google.colab.kernel.invokeFunction('convertToInteractive',\n",
              "                                                    [key], {});\n",
              "        if (!dataTable) return;\n",
              "\n",
              "        const docLinkHtml = 'Like what you see? Visit the ' +\n",
              "          '<a target=\"_blank\" href=https://colab.research.google.com/notebooks/data_table.ipynb>data table notebook</a>'\n",
              "          + ' to learn more about interactive tables.';\n",
              "        element.innerHTML = '';\n",
              "        dataTable['output_type'] = 'display_data';\n",
              "        await google.colab.output.renderOutput(dataTable, element);\n",
              "        const docLink = document.createElement('div');\n",
              "        docLink.innerHTML = docLinkHtml;\n",
              "        element.appendChild(docLink);\n",
              "      }\n",
              "    </script>\n",
              "  </div>\n",
              "\n",
              "\n",
              "<div id=\"df-a861d782-e4ec-4d89-b346-04af502f78d2\">\n",
              "  <button class=\"colab-df-quickchart\" onclick=\"quickchart('df-a861d782-e4ec-4d89-b346-04af502f78d2')\"\n",
              "            title=\"Suggest charts\"\n",
              "            style=\"display:none;\">\n",
              "\n",
              "<svg xmlns=\"http://www.w3.org/2000/svg\" height=\"24px\"viewBox=\"0 0 24 24\"\n",
              "     width=\"24px\">\n",
              "    <g>\n",
              "        <path d=\"M19 3H5c-1.1 0-2 .9-2 2v14c0 1.1.9 2 2 2h14c1.1 0 2-.9 2-2V5c0-1.1-.9-2-2-2zM9 17H7v-7h2v7zm4 0h-2V7h2v10zm4 0h-2v-4h2v4z\"/>\n",
              "    </g>\n",
              "</svg>\n",
              "  </button>\n",
              "\n",
              "<style>\n",
              "  .colab-df-quickchart {\n",
              "      --bg-color: #E8F0FE;\n",
              "      --fill-color: #1967D2;\n",
              "      --hover-bg-color: #E2EBFA;\n",
              "      --hover-fill-color: #174EA6;\n",
              "      --disabled-fill-color: #AAA;\n",
              "      --disabled-bg-color: #DDD;\n",
              "  }\n",
              "\n",
              "  [theme=dark] .colab-df-quickchart {\n",
              "      --bg-color: #3B4455;\n",
              "      --fill-color: #D2E3FC;\n",
              "      --hover-bg-color: #434B5C;\n",
              "      --hover-fill-color: #FFFFFF;\n",
              "      --disabled-bg-color: #3B4455;\n",
              "      --disabled-fill-color: #666;\n",
              "  }\n",
              "\n",
              "  .colab-df-quickchart {\n",
              "    background-color: var(--bg-color);\n",
              "    border: none;\n",
              "    border-radius: 50%;\n",
              "    cursor: pointer;\n",
              "    display: none;\n",
              "    fill: var(--fill-color);\n",
              "    height: 32px;\n",
              "    padding: 0;\n",
              "    width: 32px;\n",
              "  }\n",
              "\n",
              "  .colab-df-quickchart:hover {\n",
              "    background-color: var(--hover-bg-color);\n",
              "    box-shadow: 0 1px 2px rgba(60, 64, 67, 0.3), 0 1px 3px 1px rgba(60, 64, 67, 0.15);\n",
              "    fill: var(--button-hover-fill-color);\n",
              "  }\n",
              "\n",
              "  .colab-df-quickchart-complete:disabled,\n",
              "  .colab-df-quickchart-complete:disabled:hover {\n",
              "    background-color: var(--disabled-bg-color);\n",
              "    fill: var(--disabled-fill-color);\n",
              "    box-shadow: none;\n",
              "  }\n",
              "\n",
              "  .colab-df-spinner {\n",
              "    border: 2px solid var(--fill-color);\n",
              "    border-color: transparent;\n",
              "    border-bottom-color: var(--fill-color);\n",
              "    animation:\n",
              "      spin 1s steps(1) infinite;\n",
              "  }\n",
              "\n",
              "  @keyframes spin {\n",
              "    0% {\n",
              "      border-color: transparent;\n",
              "      border-bottom-color: var(--fill-color);\n",
              "      border-left-color: var(--fill-color);\n",
              "    }\n",
              "    20% {\n",
              "      border-color: transparent;\n",
              "      border-left-color: var(--fill-color);\n",
              "      border-top-color: var(--fill-color);\n",
              "    }\n",
              "    30% {\n",
              "      border-color: transparent;\n",
              "      border-left-color: var(--fill-color);\n",
              "      border-top-color: var(--fill-color);\n",
              "      border-right-color: var(--fill-color);\n",
              "    }\n",
              "    40% {\n",
              "      border-color: transparent;\n",
              "      border-right-color: var(--fill-color);\n",
              "      border-top-color: var(--fill-color);\n",
              "    }\n",
              "    60% {\n",
              "      border-color: transparent;\n",
              "      border-right-color: var(--fill-color);\n",
              "    }\n",
              "    80% {\n",
              "      border-color: transparent;\n",
              "      border-right-color: var(--fill-color);\n",
              "      border-bottom-color: var(--fill-color);\n",
              "    }\n",
              "    90% {\n",
              "      border-color: transparent;\n",
              "      border-bottom-color: var(--fill-color);\n",
              "    }\n",
              "  }\n",
              "</style>\n",
              "\n",
              "  <script>\n",
              "    async function quickchart(key) {\n",
              "      const quickchartButtonEl =\n",
              "        document.querySelector('#' + key + ' button');\n",
              "      quickchartButtonEl.disabled = true;  // To prevent multiple clicks.\n",
              "      quickchartButtonEl.classList.add('colab-df-spinner');\n",
              "      try {\n",
              "        const charts = await google.colab.kernel.invokeFunction(\n",
              "            'suggestCharts', [key], {});\n",
              "      } catch (error) {\n",
              "        console.error('Error during call to suggestCharts:', error);\n",
              "      }\n",
              "      quickchartButtonEl.classList.remove('colab-df-spinner');\n",
              "      quickchartButtonEl.classList.add('colab-df-quickchart-complete');\n",
              "    }\n",
              "    (() => {\n",
              "      let quickchartButtonEl =\n",
              "        document.querySelector('#df-a861d782-e4ec-4d89-b346-04af502f78d2 button');\n",
              "      quickchartButtonEl.style.display =\n",
              "        google.colab.kernel.accessAllowed ? 'block' : 'none';\n",
              "    })();\n",
              "  </script>\n",
              "</div>\n",
              "\n",
              "  <div id=\"id_c5c76520-028c-4876-9850-eb27d1b134fb\">\n",
              "    <style>\n",
              "      .colab-df-generate {\n",
              "        background-color: #E8F0FE;\n",
              "        border: none;\n",
              "        border-radius: 50%;\n",
              "        cursor: pointer;\n",
              "        display: none;\n",
              "        fill: #1967D2;\n",
              "        height: 32px;\n",
              "        padding: 0 0 0 0;\n",
              "        width: 32px;\n",
              "      }\n",
              "\n",
              "      .colab-df-generate:hover {\n",
              "        background-color: #E2EBFA;\n",
              "        box-shadow: 0px 1px 2px rgba(60, 64, 67, 0.3), 0px 1px 3px 1px rgba(60, 64, 67, 0.15);\n",
              "        fill: #174EA6;\n",
              "      }\n",
              "\n",
              "      [theme=dark] .colab-df-generate {\n",
              "        background-color: #3B4455;\n",
              "        fill: #D2E3FC;\n",
              "      }\n",
              "\n",
              "      [theme=dark] .colab-df-generate:hover {\n",
              "        background-color: #434B5C;\n",
              "        box-shadow: 0px 1px 3px 1px rgba(0, 0, 0, 0.15);\n",
              "        filter: drop-shadow(0px 1px 2px rgba(0, 0, 0, 0.3));\n",
              "        fill: #FFFFFF;\n",
              "      }\n",
              "    </style>\n",
              "    <button class=\"colab-df-generate\" onclick=\"generateWithVariable('df_pred_compare')\"\n",
              "            title=\"Generate code using this dataframe.\"\n",
              "            style=\"display:none;\">\n",
              "\n",
              "  <svg xmlns=\"http://www.w3.org/2000/svg\" height=\"24px\"viewBox=\"0 0 24 24\"\n",
              "       width=\"24px\">\n",
              "    <path d=\"M7,19H8.4L18.45,9,17,7.55,7,17.6ZM5,21V16.75L18.45,3.32a2,2,0,0,1,2.83,0l1.4,1.43a1.91,1.91,0,0,1,.58,1.4,1.91,1.91,0,0,1-.58,1.4L9.25,21ZM18.45,9,17,7.55Zm-12,3A5.31,5.31,0,0,0,4.9,8.1,5.31,5.31,0,0,0,1,6.5,5.31,5.31,0,0,0,4.9,4.9,5.31,5.31,0,0,0,6.5,1,5.31,5.31,0,0,0,8.1,4.9,5.31,5.31,0,0,0,12,6.5,5.46,5.46,0,0,0,6.5,12Z\"/>\n",
              "  </svg>\n",
              "    </button>\n",
              "    <script>\n",
              "      (() => {\n",
              "      const buttonEl =\n",
              "        document.querySelector('#id_c5c76520-028c-4876-9850-eb27d1b134fb button.colab-df-generate');\n",
              "      buttonEl.style.display =\n",
              "        google.colab.kernel.accessAllowed ? 'block' : 'none';\n",
              "\n",
              "      buttonEl.onclick = () => {\n",
              "        google.colab.notebook.generateWithVariable('df_pred_compare');\n",
              "      }\n",
              "      })();\n",
              "    </script>\n",
              "  </div>\n",
              "\n",
              "    </div>\n",
              "  </div>\n"
            ],
            "application/vnd.google.colaboratory.intrinsic+json": {
              "type": "dataframe",
              "variable_name": "df_pred_compare",
              "summary": "{\n  \"name\": \"df_pred_compare\",\n  \"rows\": 2601,\n  \"fields\": [\n    {\n      \"column\": \"news\",\n      \"properties\": {\n        \"dtype\": \"string\",\n        \"num_unique_values\": 2556,\n        \"samples\": [\n          \"pela culi anak anak bunuh mayat jadi tumbal jembatan tolong bagi posting teman teman keluarga yang luang detik koman aami moga keluarga saudara saudara jauh jahat culik anak anak aami klik bagi selamat nyawa ribu anak\",\n          \"partai politik kompak tolak isu tunda milu partai politik institusi demokrasi jalan fungsi agregasi bawono bawono wacana dorong proses politik mpr ri ujung amandemen undang undang dasar praktik demokrasi konstitusional jalan ancam atur main demokrasi konstitusi barang mudah main ubah suka hati sesuai penting politik jangka pendek elite bawono lontar wacana partai amanat nasional pan partai bangkit bangsa pkb partai golkar parpol milik kursi mpr dpr pdi p menasdem demokrat partai adil sejahtera pks partai satu bangun ppp tolak partai gerindra putus sikap polemik muncul ketua partai politik lontar wacana dekat ketua partai bangkit bangsa pkb memuhaim iskandar ketua partai amanat nasional pan zulkifl hasan ketua partai golkar airlangga hartarto memuhaim alas analisis big data bincang media sosial juta subjek akun persen dukung tunda milu persen tolak airlangga alas terima aspirasi kalang petan kabupaten siak riau kait wacana panjang jabat presiden zulkifl alas pan dukung tunda milu situasi pandemi kondisi ekonomi stabil anggar milu bengkak bawono harap presiden joko widodo jokow nyata sikap pegang undang undang dasar tanggap wacana masyarakat curiga isu lontar kelompok kelompok lingkar kuasa langgeng penting maret jokow tolak wacana panjang jabat periode sikap ubah sesuai uud jabat presiden batas periode pakar hukum tata negara yusril ihza memahendra nilai tunda milu milik dasar hukum atur konstitusi undang undang dasar yusril pasal uud imperatif milu pilih anggota dpr dpd presiden wakil presiden dprd laksana yusril tunda milu sebab timbul perintah ilegal penyelenggara negara milik dasar hukum penyelenggara negara yusril pilih rakyat milu pakar hukum tata negara denny indrayana wacana tunda milu bentuk peleceh konstitusi teori tatanegara pelanggar konstitusi situasi darurat alas penyelamat negara lindung rakyat mantan wakil menteri hukum ham ukur dampak tinda pelanggar konstitusi mata selamat negara indikator batas kuasa hormat hak asasi manusia pilar utama prinsip konstitusionalisme\",\n          \"akbar tandjung temui jokow istana bogor politikus senior partai golkar akbar tandjung temu presiden joko widodo istana presiden bogor jumat akbar hadir kapasitas ketua dewan nasihat korps alumni himpun mahasiswa islam kahmi pejabat kahmi koordinator presidium majelis nasional kahmi ahmad doli rnia undang jokow hadir acara arah bimbing peran peran kahmi kontribusi baik bangun doli siar kanal youtube sekretariat presiden jumat sempat jokow bahas pentol kahmi kondisi ekonomi global stabil jokow doli ajak kahmi kolaborasi kelompok masyarakat bantu perin pulih kondisi indonesia akibat pandemi krisis dunia r pesan presiden masyarakat situasi upaya bangkit maju indonesia doli dhf bmw bmw\"\n        ],\n        \"semantic_type\": \"\",\n        \"description\": \"\"\n      }\n    },\n    {\n      \"column\": \"labels\",\n      \"properties\": {\n        \"dtype\": \"number\",\n        \"std\": 0,\n        \"min\": 0,\n        \"max\": 1,\n        \"num_unique_values\": 2,\n        \"samples\": [\n          1,\n          0\n        ],\n        \"semantic_type\": \"\",\n        \"description\": \"\"\n      }\n    },\n    {\n      \"column\": \"prediction\",\n      \"properties\": {\n        \"dtype\": \"number\",\n        \"std\": 0,\n        \"min\": 0,\n        \"max\": 1,\n        \"num_unique_values\": 2,\n        \"samples\": [\n          1,\n          0\n        ],\n        \"semantic_type\": \"\",\n        \"description\": \"\"\n      }\n    }\n  ]\n}"
            }
          },
          "metadata": {},
          "execution_count": 54
        }
      ]
    },
    {
      "cell_type": "code",
      "source": [
        "df_wrong_pred = df_pred_compare[df_pred_compare['labels'] != df_pred_compare['prediction']]\n",
        "df_pred_compare.to_excel('predictions-wrong.xlsx')\n",
        "\n",
        "def label_to_str(label_int):\n",
        "    label = 'Hoax' if label_int == 1 else 'Fakta'\n",
        "    return f'{label} [{label_int}]'\n",
        "\n",
        "for i, row in enumerate(df_wrong_pred.values):\n",
        "    print(f'{i+1} | {row[0]}')\n",
        "\n",
        "    print(f'>> Ground Truth label: {label_to_str(row[1])}, but predicted as: {label_to_str(row[2])}')\n",
        "    print()"
      ],
      "metadata": {
        "colab": {
          "base_uri": "https://localhost:8080/"
        },
        "id": "ZGicUJbT-Ph5",
        "outputId": "96890f8c-6a0f-4dc2-a5bf-707e74443149"
      },
      "execution_count": 56,
      "outputs": [
        {
          "output_type": "stream",
          "name": "stdout",
          "text": [
            "1 | alas sungguh mulia presiden jokow haru kaesang bantu biaya obat indra bekti\n",
            ">> Ground Truth label: Hoax [1], but predicted as: Fakta [0]\n",
            "\n",
            "2 | erti negara dasar sudut negara salah wujud organisasi besar lingkup kutip buku didi warganegara dr baso madiong teman teman negara wilayah dalam diam orang milik tuju hidup beda beda negara unsur dalam tiga unsur salah nama negara tiga unsur lengkap negara tiga unsur unsur kalah aku negara aku negara milik negara ada negara diaku negara negara ahli kelompok erti negara dasar sudut pandang jelas negara alat masyarakat milik kuasa atur hubung manusia masyarakat negara organisasi kuasa hakikat tata kerja kelompok manusia buat sikap sesuai hendak negara kumpul sosial fungsi pelihara tertib hormat pribadi warga negara lindung rakyat cipta sejahtera definisi negara organisasi politik negara sekutu manusia milik ciri khas beda negara sekutu manusia ciri khas daulat anggota negara sifat ikat paksa rangkum buku kembang ilmu negara adab globalisasi dunia teuku saiful bahri johan negara organisasi susila timbul sintesa merdeka universal merdeka individu\n",
            ">> Ground Truth label: Fakta [0], but predicted as: Hoax [1]\n",
            "\n",
            "3 | marak baliho elite partai politik juru bicara pan uang bantu rakyat nya pas rizki muncul agam baliho gambar wajah wajah elite partai politik ketua dpr puan maharani ketua partai golkar airlangga hartarto ketua partai bangkit bangsa memuhaim iskandar ketua partai demokrat agus harimurt yudhoyono\n",
            ">> Ground Truth label: Fakta [0], but predicted as: Hoax [1]\n",
            "\n",
            "4 | demokrat protes pesawat warna merah putih lintas hambalang\n",
            ">> Ground Truth label: Hoax [1], but predicted as: Fakta [0]\n",
            "\n",
            "5 | jelas tpres momen jokow salam kapolr hut tni memalaysia saudara serum kerja sebut upacara jokow salam mimbar utama upacara salam video presiden sapa kapolr x jadi lepas jokow saksi parade defile tni mimbar istana tepat jalan medan merdeka utara parade gelar upacara ingat hut tni lapang merdeka kompleks istana parade jokow hampir panglima tni jenderal andika perkasa duduk mimbar pejabat jokow sodor tangan salam andika jokow hadir groundbreaking plta mementarang induk kalimant utara andika balas hormat militer salam jokow sebelah kiri andika listyo sigit jokow sapa salam mantan kepala badan reserse kriminal bareskim polri jokow salam kepala staf matra tni kepala staf angkat darat jenderal dudung abdurachm kepala staf angkat luat laksamana yudo memargono kepala staf angkata udara marsekal fadjar prasetyo jokow terima aja foto masyarakat hadir lokasi baru jokow pejabat mimbar turun terang pers masuk istana ikuti berita kini tempo google menews klik\n",
            ">> Ground Truth label: Fakta [0], but predicted as: Hoax [1]\n",
            "\n",
            "6 | presidential threshold persen hapus calon isi tas aja persepsi maju hapus aja\n",
            ">> Ground Truth label: Fakta [0], but predicted as: Hoax [1]\n",
            "\n",
            "7 | mpr godok jabat presiden periode jokow tarung pilpres jokow bukti percaya masyarakat\n",
            ">> Ground Truth label: Hoax [1], but predicted as: Fakta [0]\n",
            "\n",
            "8 | perin rencana impor beras juta ton indonesia gagal swasembada\n",
            ">> Ground Truth label: Hoax [1], but predicted as: Fakta [0]\n",
            "\n",
            "9 | andai pilpres pilih berita survei popularitas elektabilitas calon presiden capres hias berita media narasi berita metodologi survei capres sodor daftar kandidat saiful memujan research and consulting smrc nama survei indikator cantum nama daftar wakil lembaga survei responden hasil catat nama muncul survei prabowo subianto anies baswed ridw kamil ganjar pranowo erick thohir airlangga hartanto mayoritas asal kalang eksekutif menteri kepala daerah baca berita berita survei besit ide liar masuk nama daftar nama raffi ahmad kuat lebritas politik pandang sebelah mata hasil survei ubah total buku judul komunikasi politik era digital big data influencer relations kuat selebriti politik tawa sub bab bahas fenomena artis terjun politik artis indonesia masuk panggung politik grafik tanjak tingkat partisipasi tren lebritas tanah air caleg upaya anggota dpr ri milu caleg lebritas milu ikut caleg lebritas caleg lebritas partisipasi milu milu partisipasi caleg lebritas milu lebritas tembus senay mayoritas asal kalang generasi x lahir memul jamella gerindra dapil jabar xi krisdayant pdip dapil jatim v tommy rniaw pkb dapil jabar v farh menasdem dapil jabar i rano karno pdip dapil banten iii menurul arifin golkar dapil jabar i menico siaha pdip dapil jabar i eko patrio pan dapil dki jakarta i desy ratnasar pan dapil jabar iv dede yusuf demokrat dapil jabar i primus yustisio pan dapil jabar v rieke diah pitaloka pdip dapil jabar vii arzetty bilbina pkb dapil jatim i rachel memaryam gerindra dapil jabar ii lebritas tanah air masuk politik capres presiden ri negara milik presiden latar lebritas presiden amerika serikat ronald reag presiden filipina joseph estrada presiden ukraina volodymyr zelensky presiden polandia lech kazynski profesor p david memarshall deakin university tulis buku celebrity and power tulis in politics a leader memust somehow embody the sentiments of the party the people and the state in the realm of entertainment a celebrity memust somehow embody the ntiments of the audience hlm era garis pisah politik lebritas hilang publik audiens politisi gaya bak lebritas tunjuk tarik perhati publik lebritas terjun politik modal popularitas konversi jabat politik raffi ahmad lebritas usia lahir februari kategori generasi memilenial instagram raffi menagita milik juta followers empat total populasi indonesia kenal raffi ahmad popularitas modal politik sang istri menagita slavina raffi diri rans entertainment usia tujuh rans jelma salah media youtube rans milik juta subscribers instagram juta followers bicara media sosial akun jangkau reach angka digital ads reach lipat ganda total\n",
            ">> Ground Truth label: Fakta [0], but predicted as: Hoax [1]\n",
            "\n",
            "10 | fpi memuhammadiyah ramadan h\n",
            ">> Ground Truth label: Fakta [0], but predicted as: Hoax [1]\n",
            "\n",
            "11 | dpr kecewa memenag yaqut anggar dana pesantren\n",
            ">> Ground Truth label: Hoax [1], but predicted as: Fakta [0]\n",
            "\n",
            "12 | ahok singgung oknum partai nasional amal pancasila basuk tjahaja purnama alias ahok singgung oknum anggota partai tingkat nasional indonesia amal nilai nilai pancasila ideologi bangsa ahok acara peluncur program cari pimpin btp bersih transparan profesional virtual rabu ahok poin program motor gera moral pancasila gera moral pancasila begini pejabat kuasa en ganti pancasila oknum oknum politisi menga partai nasional iman pancasila partai nasionalis sangsi pilih omong bupati hok turun cina kristen agama mayoritas mimpi ini aneh aneh ahok hati aneh orang omong pancasila pancasila iman ideologi juang tahan gamang gawat poin wadah pelay rakyat ahok yogya pejabat orang layan rakyat ahok sebut pejabat layan rakyat pejabat dudu layan orang rumus orang tinggi republik orang layan rakyat ahok sebut ratting daerah alami ratting pimpin turun ahok ratting e commerce beli online e commerce en beli jam tangan lihat rating jam tangan bagus bagus beli ahok harap program masuk dunia politik pelay rakyat latih masuk politik politik survive hadap tekan tekan beda pegang prinsip bantu miskin butuh tolong ahok catat redaksi judul artikel ubah kamis wib sesuai nyata narasumber dis isn\n",
            ">> Ground Truth label: Fakta [0], but predicted as: Hoax [1]\n",
            "\n",
            "13 | ahy lebaran cikeas sby agenda open house yel ahy presiden\n",
            ">> Ground Truth label: Fakta [0], but predicted as: Hoax [1]\n",
            "\n",
            "14 | ratus ungsi rohingya acah terlantar banjir rumah warga tolak warga walah berat ratus tamu biar perin pelanggar hak asasi manusia reza\n",
            ">> Ground Truth label: Fakta [0], but predicted as: Hoax [1]\n",
            "\n",
            "15 | setara tni instansi larang turun pki anggota iming perin ribu pns pindah ikn rumah dinas biaya prt\n",
            ">> Ground Truth label: Fakta [0], but predicted as: Hoax [1]\n",
            "\n",
            "16 | memahfud md khawatir angket kpk ujung makzul jokow\n",
            ">> Ground Truth label: Hoax [1], but predicted as: Fakta [0]\n",
            "\n",
            "17 | infografik tilik jalan gibr bisnis liner politik p surakarta hasil jaring tutup pdi p kota surakarta muncul nama achmad purnomo teguh prakosa calon wali kota wakil wali kota usung pilkada putus terjun politik gibr awal karir usaha katering sang ayah harap terus usaha mebel milik gibr pilih rintis usaha modal dapat pinjam bank jal gibr embang bisnis liner rintis usaha liner martabak bisnis kedai kopi olah ceker ayam rambah bisnis jas hujan merek tugas negara bos lengkap simak infografik pambud infografik tilik jalan gibr\n",
            ">> Ground Truth label: Fakta [0], but predicted as: Hoax [1]\n",
            "\n",
            "18 | asn tni polri pejabat bumn bumd ketua rt kepala lingkung lurah camat libat politik praktis pidana penjara uu no pasal ayat pasal pasal ayat uu no pasal uu no pasal aparatur sipil negara anggota tentara nasional indonesia polisi negara republik indonesia kepala desa perangkat desa anggota badan musyawarat desa langgar larang pasal ayat pidana pidana kurung denda belas juta rupiah iya sobat asn ketua rt ketua lingkung lurah camat libat kampanye fasilitas\n",
            ">> Ground Truth label: Hoax [1], but predicted as: Fakta [0]\n",
            "\n",
            "19 | panglima tni marsekal hadi tjahjanto tetap program prioritas bangun tni sebelas program prioritas rangka bangun tni liput revitalisasi program program minimum essential force mef penyempurna doktrin tni doktrin angkat penyempurna organisasi tni embang sistem kelola sdm tni basis kompetensi bangun tni ad kuat pusat wilayah dukung bangun tni al penyusun sistem senjata armada padu ssat kapal perang pesawat udara marinir pangkal bangun tni au capai air supremacy air superiority bangun unit khusus pasu pasu khusus tri matra embang sistem operasi tri matra basis teknologi liput menetwork centric warfare cyber warfare kuat diplomasi militer tingkat kontribusi rangka menang penting nasional wujud sistem ada alutsista pedoman effect based interoperabilitas transparan akuntabel bebas kkn tunjang kinerja uang lauk pauk tunjang jabat pa tunjang babinsa rp tunjang ba ta smula rp hapus lahir thn tmt pensiun ubah\n",
            ">> Ground Truth label: Hoax [1], but predicted as: Fakta [0]\n",
            "\n",
            "20 | omicron luhut vaksin tanggung varian orthrus november\n",
            ">> Ground Truth label: Fakta [0], but predicted as: Hoax [1]\n",
            "\n",
            "21 | top nasional aset indra nz nila rp m sita atur nikah beda agama orang indonesia tunduk hukum rumit birokrasi indonesia legal nikah pasang beda agama tunduk salah hukum agama salah pindah agama sepakat nikah batal jalan meni negeri pasang meni negeri akta kawin negara sangkut wakil republik indonesia kbri indonesia pasang nikah beda agama catat kawin kantor catat sipil surat terang pelapor kawin negeri\n",
            ">> Ground Truth label: Fakta [0], but predicted as: Hoax [1]\n",
            "\n",
            "22 | ketua pdi juang memegawat soekarnoputr posisi presiden jokow petugas partai mantan memendagr letjen tni purn syarw hamid kritik nyata mega cermin perilaku arogan takabur naif memegawat lengkap ungkap peleceh kongres pdip syarw redaksi senin syarw umat islam jokow nyaman nyata mega kalang amat politik sebut memegawat panik dapat nilai suram partai proses tukas menteri era orde\n",
            ">> Ground Truth label: Hoax [1], but predicted as: Fakta [0]\n",
            "\n",
            "23 | negara laku bela negara pasca perang dunia ii amerika bawa ribu pasu serang vietnam tentara amerika mundur tahan militer rakyat vietnam tangkas bela negara rusiayang anyar rusia perintah presiden vladimir put rakyat libat perang serang ukraina perintah tolak publik orang rusia mobil bus novitabaca bela negara spektrum wajib militer ala put\n",
            ">> Ground Truth label: Fakta [0], but predicted as: Hoax [1]\n",
            "\n",
            "24 | ksp jokow terima dengar aspirasi rakyat demo bbm jokow terima aspirasi masyarakat gelar aksi unjuk nai harga bbm minggu jokow dengar perhati tuntut suara warga\n",
            ">> Ground Truth label: Hoax [1], but predicted as: Fakta [0]\n",
            "\n",
            "25 | nyengkuyung rekomendasi dpw partai menasdem provinsi d i yogyakartadhateng anies baswed lebeting calon presiden relawan yogyakarta anies baswed\n",
            ">> Ground Truth label: Hoax [1], but predicted as: Fakta [0]\n",
            "\n",
            "26 | freddy budiman bongkar pejabat libat jaring menarkoba daftar pojoksatu id jakarta detik detik eksekusi mati pidana menarkoba freddy budiman dkk getar tanah air pro kontra eksekusi mati alas harris azhar koordinator kontras tulis cerita aku freddy budiman salah bandar kakap tulis harris aku freddy budiman ungkap fakta fakta jarang orang tulis harris posting ulang ulil abshar abdalla jumat tulis saksi harris azhar freddy budiman cerita busuk bandit saksi berte freddy budiman lapas menusa kambang proses siap eksekusi hukum mati tiga bawah perintah joko widodo menyakini pelaksana ugal ugalan popularitas upaya adil hukum komprehensif tanggulang jahat mimpi penyeludupan menarkoba freddy budiman tarik simak sisi lemah hukum bawah kampanye pilpres sibu partisipasi didi ham masyarakat kampanye pilpres oleh undang organisasi gereja lembaga aktif damping rohani lapas menusa kambang nk undang gereja sempat berte narapidana teroris korban rekayasa pidana hukum mati berte john refra alias john kei freddy budiman pidana mati menarkoba berte rodrigo gularte narapidana wn brasil eksekusi gelombang april patut terima kasih sitinjak kepala lapas nk sempat bicara dengan tukar pikir kerja kerja sitinjak disiplin kelola penjara staf beliau sweeping pantau penjara narapidana sitinjak perintah jajar sweeping pemili hp senjata tajam hasil sweeping temu hp senjata tajam malang sitinjak kerja keras bangun integritas penjara pimpin pasang kamera jam monitor freddy budiman beliau cerita beliau kali pejabat bnn kunjung menusa kambang cabut kamera awas freddy budiman mengangap aneh muncul bnn berat kamera awas freddy budiman status freddy budiman jahat kelas kakap awas ketat jawab cerita saksi freddy budiman pelay rohani ajak nk freddy budiman berte bicara langsung jelang siang ruang awas sitinjak pelay gereja john kei freddy budiman cerita jam alami jahat laku freddy budiman haris orang takut mati hukum mati jahat resiko kejahata laku kecewa pejabat tegak hukum bandar operator penyeludup menarkoba skala milik bos indonesia bos cina seludup menarkoba acara atur telepon polisi bnn bea cukai orang orang telpon titip titip harga haris harga menarkoba jual jakarta pasar fredi langsung salah harga perak pabrik cina takut titip harga telepon si titip rp butir titip butir bilang oke haris fredy butir bagi rejeki institusi butuh miliar barang untung jual puluh miliar pejabat institusi fredy lanjut cerita polisi sikap main kaki bawa barang tangkap tangkap barang sita informan bahan sita jual bebas bos cina udah deal polisi lo tangkap udah gitu tangkap barang edar main polisi lo freddy tau pabrik bikin menarkoba ciri bentuk warna barang jual temu jaring lapang fredi lanjut bongkar mana orang\n",
            ">> Ground Truth label: Hoax [1], but predicted as: Fakta [0]\n",
            "\n",
            "27 | general manajer angkasa pura syamsud menoor wahyud salah paham senik kumpul taksi online bandara tentu berla\n",
            ">> Ground Truth label: Hoax [1], but predicted as: Fakta [0]\n",
            "\n",
            "28 | ketua dprd dki telepon perempuan ribut arteria ketua dprd dki jakarta prasetio edi memarsud memenga telepon perempuan keluarga jenderal bintang adu mulut politikus pdip arteria dahl bandara soekarno hatta tangerang banten minggu perempuan telepon lantar pras rekan partai arteria psip pras perempuan cari jalan damai partai telpon spontan tengah belah teman ini pras terang tulis senin pras bela salah harap belah selesai keluarga harap belah maaf orang timur hormat orang tua didik anak anak harga orang tua orang timur memengedepan keluarga selesai harap tuntas bicara maaf pras anggota dpr ri fraksi pdip arteria dahl ibunda maki perempuan memenga keluarga jenderal bintang peristiwa alami arteria unggah wakil ketua komisi iii dpr fraksi partai menasdem ahmad sahron akun instagram milik minggu sahron wanita maki ibunda arteria dahl kena mobil dinas tni warna hijau tni cari identitas wanita si perempuan maki maki org tua sahabat kah wanita yang video wahit pake mobil dinas tni warna hijau wanitu istri dr pejabat tni ad sy posting manfaat pra wanita yang tidak maki org tua kaya video sombong kali sahron puspentn tolong cari mobil dinas pelajar sopan sambung catat redaksi berita alami ubah judul ketua dprd dki telepon perempuan ribut arteria dahl redaksi klarifikasi lanjut prasetio edi memarsud yoa gil\n",
            ">> Ground Truth label: Fakta [0], but predicted as: Hoax [1]\n",
            "\n",
            "29 | peduli jokow brune turki rebut bocah acah dunia nasional in menaufal rizki pelajar kelas mtsn langsa kota langsa acah pene energi listrik pohon kedondong incar negara tanggung tanggung turki brune menteri energi memenga tarik boyong menaufal nagara mengemuka tindak perin indonesia terus teliti energi baru energi baru dunia penemunya permata layak rebut menteri energi turki yildiz senin kutip afp seraya sayang perin indonesia jeli potensi rakyat nada yildiz menteri energi brune darussalam memohammad yasmin bin haji umar utara efisiensi energi mutlak laku dunia genggam pene energi baru berani bayar mahal katayasmin bin haji umar biaya teliti menaufal kantong pribadi anak saudara pasang supriaman deski coba coba pelajar sekolah menaufal hasil cipta tenaga listrik batang pohon kali eksperimen pohon mangga layak temu kedondong pagar kadar asam getah hantar listrik menaufal memenga bekal milik sekolah dukung sang ayah bantu coba ayah menaufal elektronik alat alat elektronik papar hasil temu energi pohon kayu sederhana rangkai pipa tembaga batang besi kapasitor dioda arus listrik hasil gantung kadar asam pohon menaufal kali coba memenel biaya juta temu rumah alir listrik puluh pohon kedondong pagar cita cita ingin sigap menaufal langsung ilmuwan ilmuwan depan embang eksperimen hidup alat elektronik tukas\n",
            ">> Ground Truth label: Hoax [1], but predicted as: Fakta [0]\n",
            "\n",
            "30 | leda kantor kominfo detik detik leda kota indonesia serang ok subatdungu hancur gedung kominfo\n",
            ">> Ground Truth label: Hoax [1], but predicted as: Fakta [0]\n",
            "\n",
            "31 | pangeran charles puji presiden jokow hadap negara anggota jokow juang selamat alam indonesia dampak upaya penyelamat planet ubah iklim agusyudhoyono osoekaryo\n",
            ">> Ground Truth label: Hoax [1], but predicted as: Fakta [0]\n",
            "\n"
          ]
        }
      ]
    },
    {
      "cell_type": "code",
      "execution_count": null,
      "metadata": {
        "colab": {
          "base_uri": "https://localhost:8080/",
          "height": 17
        },
        "id": "xGmwkwYUcDq_",
        "outputId": "5ed45963-afc0-44c7-c33a-36be6ae73539"
      },
      "outputs": [
        {
          "data": {
            "text/html": [],
            "text/plain": [
              "<IPython.core.display.HTML object>"
            ]
          },
          "metadata": {},
          "output_type": "display_data"
        }
      ],
      "source": [
        "pred_output = trainer.predict(test_dataset=dataset_full[\"train\"])"
      ]
    },
    {
      "cell_type": "code",
      "execution_count": null,
      "metadata": {
        "id": "88EXfMSFcHsJ"
      },
      "outputs": [],
      "source": [
        "pred_label_train = np.argmax(pred_output.predictions, axis=1)\n",
        "gt_label_train = dataset_full[\"train\"]['label']\n"
      ]
    },
    {
      "cell_type": "code",
      "execution_count": null,
      "metadata": {
        "colab": {
          "base_uri": "https://localhost:8080/"
        },
        "id": "1W4hHfdkcSlB",
        "outputId": "b84b91e5-a350-4188-bc4c-0e2999487e91"
      },
      "outputs": [
        {
          "data": {
            "text/plain": [
              "{'test_loss': 0.001292094704695046,\n",
              " 'test_accuracy': 0.9997596731554914,\n",
              " 'test_precision': 0.9995187680461982,\n",
              " 'test_recall': 1.0,\n",
              " 'test_f1': 0.9997593261131167,\n",
              " 'test_roc_auc': 0.9997600767754319,\n",
              " 'test_runtime': 302.0275,\n",
              " 'test_samples_per_second': 27.554,\n",
              " 'test_steps_per_second': 1.725}"
            ]
          },
          "execution_count": 131,
          "metadata": {},
          "output_type": "execute_result"
        }
      ],
      "source": [
        "pred_output.metrics"
      ]
    },
    {
      "cell_type": "code",
      "execution_count": null,
      "metadata": {
        "colab": {
          "base_uri": "https://localhost:8080/"
        },
        "id": "HFvxgu4na5Cu",
        "outputId": "04dbb889-33a7-46d2-dee2-ca25114a0288"
      },
      "outputs": [
        {
          "data": {
            "text/plain": [
              "{'test_loss': 0.08734465390443802,\n",
              " 'test_accuracy': 0.9850057670126874,\n",
              " 'test_precision': 0.97847809377402,\n",
              " 'test_recall': 0.9914330218068536,\n",
              " 'test_f1': 0.9849129593810445,\n",
              " 'test_roc_auc': 0.9850862907060083,\n",
              " 'test_runtime': 94.2932,\n",
              " 'test_samples_per_second': 27.584,\n",
              " 'test_steps_per_second': 1.729}"
            ]
          },
          "execution_count": 124,
          "metadata": {},
          "output_type": "execute_result"
        }
      ],
      "source": [
        "pred_output.metrics"
      ]
    },
    {
      "cell_type": "code",
      "execution_count": null,
      "metadata": {
        "colab": {
          "base_uri": "https://localhost:8080/",
          "height": 211
        },
        "id": "n78Y9LBOdYrT",
        "outputId": "1baa1211-c9f2-48e6-f9bc-38afb3477eca"
      },
      "outputs": [
        {
          "data": {
            "text/html": [
              "\n",
              "    <div>\n",
              "      \n",
              "      <progress value='163' max='163' style='width:300px; height:20px; vertical-align: middle;'></progress>\n",
              "      [163/163 01:32]\n",
              "    </div>\n",
              "    "
            ],
            "text/plain": [
              "<IPython.core.display.HTML object>"
            ]
          },
          "metadata": {},
          "output_type": "display_data"
        },
        {
          "data": {
            "text/plain": [
              "{'eval_loss': 0.08734465390443802,\n",
              " 'eval_accuracy': 0.9850057670126874,\n",
              " 'eval_precision': 0.97847809377402,\n",
              " 'eval_recall': 0.9914330218068536,\n",
              " 'eval_f1': 0.9849129593810445,\n",
              " 'eval_roc_auc': 0.9850862907060083,\n",
              " 'eval_runtime': 93.2483,\n",
              " 'eval_samples_per_second': 27.893,\n",
              " 'eval_steps_per_second': 1.748,\n",
              " 'epoch': 5.0}"
            ]
          },
          "execution_count": 132,
          "metadata": {},
          "output_type": "execute_result"
        }
      ],
      "source": [
        "# after training\n",
        "trainer.evaluate(eval_dataset=dataset_full[\"test\"])"
      ]
    },
    {
      "cell_type": "code",
      "execution_count": 58,
      "metadata": {
        "id": "kzXgAjs-dmYB"
      },
      "outputs": [],
      "source": [
        "training_metrics = trainer.state.log_history"
      ]
    },
    {
      "cell_type": "code",
      "execution_count": null,
      "metadata": {
        "colab": {
          "base_uri": "https://localhost:8080/"
        },
        "id": "GJ9BniRgfDsb",
        "outputId": "b4d6249f-fa3d-4781-b51d-df7aa1e1ee11"
      },
      "outputs": [
        {
          "data": {
            "text/plain": [
              "[{'loss': 0.1373,\n",
              "  'learning_rate': 1.616122840690979e-05,\n",
              "  'epoch': 0.96,\n",
              "  'step': 500},\n",
              " {'eval_loss': 0.07760564237833023,\n",
              "  'eval_accuracy': 0.984142239308025,\n",
              "  'eval_precision': 0.9849482596425212,\n",
              "  'eval_recall': 0.9840225563909775,\n",
              "  'eval_f1': 0.9844851904090268,\n",
              "  'eval_roc_auc': 0.9841450048424898,\n",
              "  'eval_runtime': 74.0268,\n",
              "  'eval_samples_per_second': 28.111,\n",
              "  'eval_steps_per_second': 1.77,\n",
              "  'epoch': 1.0,\n",
              "  'step': 521},\n",
              " {'loss': 0.0436,\n",
              "  'learning_rate': 1.2322456813819578e-05,\n",
              "  'epoch': 1.92,\n",
              "  'step': 1000},\n",
              " {'eval_loss': 0.08782035112380981,\n",
              "  'eval_accuracy': 0.9817395482940894,\n",
              "  'eval_precision': 0.9867172675521821,\n",
              "  'eval_recall': 0.9774436090225563,\n",
              "  'eval_f1': 0.9820585457979225,\n",
              "  'eval_roc_auc': 0.981838815327404,\n",
              "  'eval_runtime': 73.8958,\n",
              "  'eval_samples_per_second': 28.161,\n",
              "  'eval_steps_per_second': 1.773,\n",
              "  'epoch': 2.0,\n",
              "  'step': 1042},\n",
              " {'loss': 0.0163,\n",
              "  'learning_rate': 8.483685220729368e-06,\n",
              "  'epoch': 2.88,\n",
              "  'step': 1500},\n",
              " {'eval_loss': 0.08489056676626205,\n",
              "  'eval_accuracy': 0.9855838539163864,\n",
              "  'eval_precision': 0.9914448669201521,\n",
              "  'eval_recall': 0.9802631578947368,\n",
              "  'eval_f1': 0.9858223062381853,\n",
              "  'eval_roc_auc': 0.9857068001863064,\n",
              "  'eval_runtime': 73.5165,\n",
              "  'eval_samples_per_second': 28.307,\n",
              "  'eval_steps_per_second': 1.782,\n",
              "  'epoch': 3.0,\n",
              "  'step': 1563},\n",
              " {'loss': 0.0034,\n",
              "  'learning_rate': 4.644913627639156e-06,\n",
              "  'epoch': 3.84,\n",
              "  'step': 2000},\n",
              " {'eval_loss': 0.08894098550081253,\n",
              "  'eval_accuracy': 0.9860643921191735,\n",
              "  'eval_precision': 0.9840972871842844,\n",
              "  'eval_recall': 0.9887218045112782,\n",
              "  'eval_f1': 0.986404125644632,\n",
              "  'eval_roc_auc': 0.9860029868180776,\n",
              "  'eval_runtime': 73.9586,\n",
              "  'eval_samples_per_second': 28.137,\n",
              "  'eval_steps_per_second': 1.771,\n",
              "  'epoch': 4.0,\n",
              "  'step': 2084},\n",
              " {'loss': 0.0001,\n",
              "  'learning_rate': 8.061420345489445e-07,\n",
              "  'epoch': 4.8,\n",
              "  'step': 2500},\n",
              " {'eval_loss': 0.09309346228837967,\n",
              "  'eval_accuracy': 0.9851033157135992,\n",
              "  'eval_precision': 0.988647114474929,\n",
              "  'eval_recall': 0.9821428571428571,\n",
              "  'eval_f1': 0.9853842527109854,\n",
              "  'eval_roc_auc': 0.9851717235566794,\n",
              "  'eval_runtime': 73.9691,\n",
              "  'eval_samples_per_second': 28.133,\n",
              "  'eval_steps_per_second': 1.771,\n",
              "  'epoch': 5.0,\n",
              "  'step': 2605},\n",
              " {'train_runtime': 4309.4349,\n",
              "  'train_samples_per_second': 9.656,\n",
              "  'train_steps_per_second': 0.604,\n",
              "  'total_flos': 1.09480510135296e+16,\n",
              "  'train_loss': 0.03850137016802111,\n",
              "  'epoch': 5.0,\n",
              "  'step': 2605},\n",
              " {'eval_loss': 0.08734465390443802,\n",
              "  'eval_accuracy': 0.9850057670126874,\n",
              "  'eval_precision': 0.97847809377402,\n",
              "  'eval_recall': 0.9914330218068536,\n",
              "  'eval_f1': 0.9849129593810445,\n",
              "  'eval_roc_auc': 0.9850862907060083,\n",
              "  'eval_runtime': 93.4228,\n",
              "  'eval_samples_per_second': 27.841,\n",
              "  'eval_steps_per_second': 1.745,\n",
              "  'epoch': 5.0,\n",
              "  'step': 2605},\n",
              " {'eval_loss': 0.08734465390443802,\n",
              "  'eval_accuracy': 0.9850057670126874,\n",
              "  'eval_precision': 0.97847809377402,\n",
              "  'eval_recall': 0.9914330218068536,\n",
              "  'eval_f1': 0.9849129593810445,\n",
              "  'eval_roc_auc': 0.9850862907060083,\n",
              "  'eval_runtime': 93.2483,\n",
              "  'eval_samples_per_second': 27.893,\n",
              "  'eval_steps_per_second': 1.748,\n",
              "  'epoch': 5.0,\n",
              "  'step': 2605}]"
            ]
          },
          "execution_count": 141,
          "metadata": {},
          "output_type": "execute_result"
        }
      ],
      "source": [
        "training_metrics"
      ]
    },
    {
      "cell_type": "code",
      "execution_count": 59,
      "metadata": {
        "id": "UaiVY0NceDZC"
      },
      "outputs": [],
      "source": [
        "import matplotlib.pyplot as plt\n",
        "\n",
        "# Ekstraksi loss dan akurasi dari metrik pelatihan\n",
        "epochs = []\n",
        "train_loss = []\n",
        "eval_loss = []\n",
        "train_accuracy = []\n",
        "eval_accuracy = []\n",
        "\n",
        "for entry in training_metrics:\n",
        "    if 'epoch' in entry:\n",
        "        epochs.append(entry['epoch'])\n",
        "    if 'loss' in entry:\n",
        "        train_loss.append(entry['loss'])\n",
        "    if 'eval_loss' in entry:\n",
        "        eval_loss.append(entry['eval_loss'])\n",
        "    if 'eval_accuracy' in entry:\n",
        "        eval_accuracy.append(entry['eval_accuracy'])\n",
        "    if 'accuracy' in entry:\n",
        "        train_accuracy.append(entry['test_accuracy'])"
      ]
    },
    {
      "cell_type": "code",
      "execution_count": 60,
      "metadata": {
        "id": "GGRwBWqCeTCm"
      },
      "outputs": [],
      "source": [
        "# Ensure the lists are of the same length by appending NaNs where necessary\n",
        "max_len = max(len(epochs), len(train_loss), len(eval_loss), len(train_accuracy), len(eval_accuracy))\n",
        "while len(train_loss) < max_len:\n",
        "    train_loss.append(None)\n",
        "while len(eval_loss) < max_len:\n",
        "    eval_loss.append(None)\n",
        "while len(train_accuracy) < max_len:\n",
        "    train_accuracy.append(None)\n",
        "while len(eval_accuracy) < max_len:\n",
        "    eval_accuracy.append(None)\n"
      ]
    },
    {
      "cell_type": "code",
      "execution_count": 61,
      "metadata": {
        "colab": {
          "base_uri": "https://localhost:8080/",
          "height": 564
        },
        "id": "ZCwJAj0eeGh9",
        "outputId": "f41a2f74-36eb-4bc1-dc02-a135bf102abc"
      },
      "outputs": [
        {
          "output_type": "display_data",
          "data": {
            "text/plain": [
              "<Figure size 1200x600 with 1 Axes>"
            ],
            "image/png": "[encoded data removed]"
          },
          "metadata": {}
        }
      ],
      "source": [
        "# Plot Loss\n",
        "plt.figure(figsize=(12, 6))\n",
        "plt.plot(epochs, train_loss, label='Training Loss')\n",
        "plt.plot(epochs, eval_loss, label='Evaluation Loss')\n",
        "plt.xlabel('Epochs')\n",
        "plt.ylabel('Loss')\n",
        "plt.title('Training Loss vs Evaluation Loss')\n",
        "plt.legend(loc=\"upper right\")\n",
        "plt.show()"
      ]
    },
    {
      "cell_type": "code",
      "execution_count": 62,
      "metadata": {
        "colab": {
          "base_uri": "https://localhost:8080/",
          "height": 564
        },
        "id": "-9TCcYAweak5",
        "outputId": "0f0fc3b5-5770-4947-f1b1-32eed8c87c79"
      },
      "outputs": [
        {
          "output_type": "display_data",
          "data": {
            "text/plain": [
              "<Figure size 1200x600 with 1 Axes>"
            ],
            "image/png": "[encoded data removed]"
          },
          "metadata": {}
        }
      ],
      "source": [
        "# Plot Accuracy\n",
        "plt.figure(figsize=(12, 6))\n",
        "plt.plot(epochs, train_accuracy, label='Training Accuracy')\n",
        "plt.plot(epochs, eval_accuracy, label='Evaluation Accuracy')\n",
        "plt.xlabel('Epochs')\n",
        "plt.ylabel('Accuracy')\n",
        "plt.title('Training vs Evaluation Accuracy')\n",
        "plt.legend()\n",
        "plt.show()"
      ]
    },
    {
      "cell_type": "code",
      "execution_count": 63,
      "metadata": {
        "id": "1PDZ52U1Gj7a"
      },
      "outputs": [],
      "source": [
        "bert_accuracy = accuracy_score(gt_label, pred_label)\n",
        "precision = precision_score(gt_label, pred_label)\n",
        "recall = recall_score(gt_label, pred_label)\n",
        "f1 = f1_score(gt_label, pred_label)\n",
        "mcc = matthews_corrcoef(gt_label, pred_label)"
      ]
    },
    {
      "cell_type": "code",
      "execution_count": 64,
      "metadata": {
        "id": "lr9EcHvuRe99"
      },
      "outputs": [],
      "source": [
        "svm_accuracy = accuracy_score(y_test, svm_pred)"
      ]
    },
    {
      "cell_type": "code",
      "execution_count": 65,
      "metadata": {
        "id": "gqDgSqusWGkM"
      },
      "outputs": [],
      "source": [
        "rf_accuracy = accuracy_score(y_test, rf_pred)"
      ]
    },
    {
      "cell_type": "code",
      "execution_count": 66,
      "metadata": {
        "colab": {
          "base_uri": "https://localhost:8080/"
        },
        "id": "nFlUuIRjL9zj",
        "outputId": "8ffc654c-2212-4046-cb52-236042f2e9a5"
      },
      "outputs": [
        {
          "output_type": "stream",
          "name": "stdout",
          "text": [
            "SVM Model - Precision: 0.9492307692307692, Recall: 0.954369682907966, F1: 0.9517932896259158, Accuracy: 0.9519415609381008\n",
            "Random Forest Model - Precision: 0.9390432098765432, Recall: 0.9412219644238206, F1: 0.9401313248358439, Accuracy: 0.9404075355632449\n"
          ]
        }
      ],
      "source": [
        "vm_metrics = evaluate_model(y_test, svm_pred, \"SVM\")\n",
        "rf_metrics = evaluate_model(y_test, rf_pred, \"Random Forest\")\n"
      ]
    },
    {
      "cell_type": "code",
      "execution_count": 67,
      "metadata": {
        "colab": {
          "base_uri": "https://localhost:8080/",
          "height": 17
        },
        "id": "tq9XCAJbL_U1",
        "outputId": "9cacd32c-06d5-49f9-cf03-f7b33e7c1823"
      },
      "outputs": [
        {
          "output_type": "display_data",
          "data": {
            "text/plain": [
              "<IPython.core.display.HTML object>"
            ],
            "text/html": []
          },
          "metadata": {}
        }
      ],
      "source": [
        "# ROC Curve\n",
        "svm_probs = svm_model.predict_proba(X_test)[:, 1]\n",
        "rf_probs = rf_model.predict_proba(X_test)[:, 1]\n",
        "bert_probs = trainer.predict(test_dataset=dataset_full[\"test\"]).predictions[:, 1]"
      ]
    },
    {
      "cell_type": "code",
      "execution_count": 68,
      "metadata": {
        "id": "GtYOfkcxMA-5"
      },
      "outputs": [],
      "source": [
        "svm_fpr, svm_tpr, _ = roc_curve(y_test, svm_pred)\n",
        "rf_fpr, rf_tpr, _ = roc_curve(y_test, rf_pred)\n",
        "bert_fpr, bert_tpr, _ = roc_curve(gt_label, pred_label)"
      ]
    },
    {
      "cell_type": "code",
      "execution_count": 69,
      "metadata": {
        "id": "oLdO1ehITy3J"
      },
      "outputs": [],
      "source": [
        "svm_roc_auc = roc_auc_score(y_test, svm_pred)\n",
        "rf_roc_auc = roc_auc_score(y_test, rf_pred)"
      ]
    },
    {
      "cell_type": "code",
      "execution_count": 70,
      "metadata": {
        "id": "rt1ZgmtPT-D5"
      },
      "outputs": [],
      "source": [
        "bert_roc_auc = roc_auc_score(gt_label,pred_label)"
      ]
    },
    {
      "cell_type": "code",
      "execution_count": 71,
      "metadata": {
        "colab": {
          "base_uri": "https://localhost:8080/"
        },
        "id": "AjxwqfDwXS4K",
        "outputId": "8c31bcfc-531d-4ef9-e7b6-9a220f22fa4f"
      },
      "outputs": [
        {
          "output_type": "stream",
          "name": "stdout",
          "text": [
            "confusion_matrix bert = [[1302   15]\n",
            " [  16 1268]]\n",
            "confusion_matrix svm = [[1242   66]\n",
            " [  59 1234]]\n",
            "confusion_matrix rf = [[1229   79]\n",
            " [  76 1217]]\n"
          ]
        }
      ],
      "source": [
        "# Confusion Matrices\n",
        "bert_conf_matrix = confusion_matrix(gt_label, pred_label)\n",
        "print(f'confusion_matrix bert = {bert_conf_matrix}')\n",
        "svm_conf_matrix = confusion_matrix(y_test, svm_pred)\n",
        "print(f'confusion_matrix svm = {svm_conf_matrix}')\n",
        "rf_conf_matrix = confusion_matrix(y_test, rf_pred)\n",
        "print(f'confusion_matrix rf = {rf_conf_matrix}')"
      ]
    },
    {
      "cell_type": "code",
      "execution_count": 72,
      "metadata": {
        "colab": {
          "base_uri": "https://localhost:8080/",
          "height": 389
        },
        "id": "NzcNWYENYBrT",
        "outputId": "a2c6054e-0b17-49eb-f778-462a233ce5fe"
      },
      "outputs": [
        {
          "output_type": "display_data",
          "data": {
            "text/plain": [
              "<Figure size 1800x500 with 6 Axes>"
            ],
            "image/png": "[encoded data removed]"
          },
          "metadata": {}
        }
      ],
      "source": [
        "# Confusion Matrix Visualization\n",
        "fig, (ax1, ax2, ax3) = plt.subplots(1, 3, figsize=(18, 5))\n",
        "\n",
        "sns.heatmap(bert_conf_matrix, annot=True, fmt='d', cmap='Blues', ax=ax1)\n",
        "ax2.set_title('BERT Confusion Matrix')\n",
        "ax2.set_xlabel('Predicted Labels')\n",
        "ax2.set_ylabel('True Labels')\n",
        "\n",
        "sns.heatmap(svm_conf_matrix, annot=True, fmt='d', cmap='Blues', ax=ax2)\n",
        "ax1.set_title('SVM Confusion Matrix')\n",
        "ax1.set_xlabel('Predicted Labels')\n",
        "ax1.set_ylabel('True Labels')\n",
        "\n",
        "sns.heatmap(rf_conf_matrix, annot=True, fmt='d', cmap='Blues', ax=ax3)\n",
        "ax2.set_title('Random Forest Confusion Matrix')\n",
        "ax2.set_xlabel('Predicted Labels')\n",
        "ax2.set_ylabel('True Labels')\n",
        "\n",
        "plt.show()"
      ]
    },
    {
      "cell_type": "code",
      "execution_count": 73,
      "metadata": {
        "colab": {
          "base_uri": "https://localhost:8080/",
          "height": 607
        },
        "id": "xycozYSoZc6z",
        "outputId": "eb98a98d-186c-48fb-bf48-58606c373338"
      },
      "outputs": [
        {
          "output_type": "display_data",
          "data": {
            "text/plain": [
              "<Figure size 800x600 with 6 Axes>"
            ],
            "image/png": "[encoded data removed]"
          },
          "metadata": {}
        }
      ],
      "source": [
        "# Create 2x2 subplots (only use three subplots)\n",
        "fig, axs = plt.subplots(2, 2, figsize=(8, 6))\n",
        "\n",
        "# SVM Confusion Matrix\n",
        "sns.heatmap(svm_conf_matrix, annot=True, fmt='d', cmap='Blues', ax=axs[0, 0])\n",
        "axs[0, 0].set_title('SVM Confusion Matrix')\n",
        "axs[0, 0].set_xlabel('Predicted Labels')\n",
        "axs[0, 0].set_ylabel('True Labels')\n",
        "\n",
        "# Random Forest Confusion Matrix\n",
        "sns.heatmap(rf_conf_matrix, annot=True, fmt='d', cmap='Blues', ax=axs[0, 1])\n",
        "axs[0, 1].set_title('Random Forest Confusion Matrix')\n",
        "axs[0, 1].set_xlabel('Predicted Labels')\n",
        "axs[0, 1].set_ylabel('True Labels')\n",
        "\n",
        "# BERT Confusion Matrix\n",
        "sns.heatmap(bert_conf_matrix, annot=True, fmt='d', cmap='Blues', ax=axs[1, 0])\n",
        "axs[1, 0].set_title('BERT Confusion Matrix')\n",
        "axs[1, 0].set_xlabel('Predicted Labels')\n",
        "axs[1, 0].set_ylabel('True Labels')\n",
        "\n",
        "# Hide the unused subplot\n",
        "fig.delaxes(axs[1, 1])\n",
        "\n",
        "# Adjust layout\n",
        "plt.tight_layout()\n",
        "\n",
        "# Show plot\n",
        "plt.show()"
      ]
    },
    {
      "cell_type": "code",
      "execution_count": 74,
      "metadata": {
        "colab": {
          "base_uri": "https://localhost:8080/",
          "height": 564
        },
        "id": "bztDj5joMCZP",
        "outputId": "8f8f1723-43d4-427e-b8a3-d6601f216685"
      },
      "outputs": [
        {
          "output_type": "display_data",
          "data": {
            "text/plain": [
              "<Figure size 1000x600 with 1 Axes>"
            ],
            "image/png": "[encoded data removed]"
          },
          "metadata": {}
        }
      ],
      "source": [
        "plt.figure(figsize=(10, 6))\n",
        "plt.plot(svm_fpr, svm_tpr, label=f'SVM (AUC = {svm_roc_auc:.2f})')\n",
        "plt.plot(rf_fpr, rf_tpr, label=f'Random Forest (AUC = {rf_roc_auc:.2f})')\n",
        "plt.plot(bert_fpr, bert_tpr, label=f'BERT (AUC = {bert_roc_auc:.2f})')\n",
        "plt.plot([0, 1], [0, 1], 'k--')\n",
        "plt.xlabel('False Positive Rate')\n",
        "plt.ylabel('True Positive Rate')\n",
        "plt.title('ROC Curve')\n",
        "plt.legend()\n",
        "plt.show()"
      ]
    },
    {
      "cell_type": "code",
      "execution_count": 75,
      "metadata": {
        "id": "fMQt_i8DV7Dj"
      },
      "outputs": [],
      "source": [
        "models = ['SVM', 'Random Forest', 'BERT']\n",
        "accuracy_scores = [svm_accuracy, rf_accuracy, bert_accuracy]"
      ]
    },
    {
      "cell_type": "code",
      "execution_count": 76,
      "metadata": {
        "colab": {
          "base_uri": "https://localhost:8080/"
        },
        "id": "O7QyW-8IWXI6",
        "outputId": "3051cf7f-6cc1-4def-df1b-ac634d8de420"
      },
      "outputs": [
        {
          "output_type": "stream",
          "name": "stdout",
          "text": [
            "BERT\n",
            "              precision    recall  f1-score   support\n",
            "\n",
            "           0       0.99      0.99      0.99      1317\n",
            "           1       0.99      0.99      0.99      1284\n",
            "\n",
            "    accuracy                           0.99      2601\n",
            "   macro avg       0.99      0.99      0.99      2601\n",
            "weighted avg       0.99      0.99      0.99      2601\n",
            "\n",
            "RANDOM FOREST\n",
            "              precision    recall  f1-score   support\n",
            "\n",
            "           0       0.94      0.94      0.94      1308\n",
            "           1       0.94      0.94      0.94      1293\n",
            "\n",
            "    accuracy                           0.94      2601\n",
            "   macro avg       0.94      0.94      0.94      2601\n",
            "weighted avg       0.94      0.94      0.94      2601\n",
            "\n",
            "SVM\n",
            "              precision    recall  f1-score   support\n",
            "\n",
            "           0       0.95      0.95      0.95      1308\n",
            "           1       0.95      0.95      0.95      1293\n",
            "\n",
            "    accuracy                           0.95      2601\n",
            "   macro avg       0.95      0.95      0.95      2601\n",
            "weighted avg       0.95      0.95      0.95      2601\n",
            "\n"
          ]
        }
      ],
      "source": [
        "print('BERT')\n",
        "print(classification_report(gt_label, pred_label))\n",
        "print('RANDOM FOREST')\n",
        "print(classification_report(y_test, rf_pred))\n",
        "print('SVM')\n",
        "print(classification_report(y_test, svm_pred))"
      ]
    },
    {
      "cell_type": "code",
      "execution_count": 77,
      "metadata": {
        "colab": {
          "base_uri": "https://localhost:8080/",
          "height": 487
        },
        "id": "OD3_KLxOME6o",
        "outputId": "cbf271ac-5b85-4cf1-aaf2-e5a0a0326c50"
      },
      "outputs": [
        {
          "output_type": "display_data",
          "data": {
            "text/plain": [
              "<Figure size 1000x500 with 1 Axes>"
            ],
            "image/png": "[encoded data removed]"
          },
          "metadata": {}
        }
      ],
      "source": [
        "plt.figure(figsize=(10, 5))\n",
        "sns.lineplot(x=models, y=accuracy_scores, marker='o')\n",
        "plt.xlabel('Models')\n",
        "plt.ylabel('Accuracy')\n",
        "plt.title('Accuracy Comparison of Different Models')\n",
        "plt.ylim(0, 1)  # Set y-axis limits to range from 0 to 1 for better visibility\n",
        "plt.grid(True)\n",
        "\n",
        "for i in range(len(models)):\n",
        "    plt.text(i, accuracy_scores[i], f'{accuracy_scores[i]:.2f}', ha='center', va='bottom')\n",
        "\n",
        "plt.show()"
      ]
    }
  ],
  "metadata": {
    "accelerator": "GPU",
    "colab": {
      "gpuType": "T4",
      "provenance": []
    },
    "kernelspec": {
      "display_name": "Python 3",
      "name": "python3"
    },
    "language_info": {
      "codemirror_mode": {
        "name": "ipython",
        "version": 3
      },
      "file_extension": ".py",
      "mimetype": "text/x-python",
      "name": "python",
      "nbconvert_exporter": "python",
      "pygments_lexer": "ipython3",
      "version": "3.11.7"
    },
    "widgets": {
      "application/vnd.jupyter.widget-state+json": {
        "c5bfaf80da8b4c0daee1a49584faeb48": {
          "model_module": "@jupyter-widgets/controls",
          "model_name": "HBoxModel",
          "model_module_version": "1.5.0",
          "state": {
            "_dom_classes": [],
            "_model_module": "@jupyter-widgets/controls",
            "_model_module_version": "1.5.0",
            "_model_name": "HBoxModel",
            "_view_count": null,
            "_view_module": "@jupyter-widgets/controls",
            "_view_module_version": "1.5.0",
            "_view_name": "HBoxView",
            "box_style": "",
            "children": [
              "IPY_MODEL_7bf217e6740b447bb625ee259e6eba33",
              "IPY_MODEL_768c05f28cb2471f93ca0b7d6a5b20bb",
              "IPY_MODEL_33564d77e1254118815652623e531370"
            ],
            "layout": "IPY_MODEL_06dbfe2790fa43d093ec870d9ca077d2"
          }
        },
        "7bf217e6740b447bb625ee259e6eba33": {
          "model_module": "@jupyter-widgets/controls",
          "model_name": "HTMLModel",
          "model_module_version": "1.5.0",
          "state": {
            "_dom_classes": [],
            "_model_module": "@jupyter-widgets/controls",
            "_model_module_version": "1.5.0",
            "_model_name": "HTMLModel",
            "_view_count": null,
            "_view_module": "@jupyter-widgets/controls",
            "_view_module_version": "1.5.0",
            "_view_name": "HTMLView",
            "description": "",
            "description_tooltip": null,
            "layout": "IPY_MODEL_cd468ebea7944ba2bc53c3b1a14779a0",
            "placeholder": "​",
            "style": "IPY_MODEL_2c59f37dcaee46c0b40b69a53490e146",
            "value": "Map: 100%"
          }
        },
        "768c05f28cb2471f93ca0b7d6a5b20bb": {
          "model_module": "@jupyter-widgets/controls",
          "model_name": "FloatProgressModel",
          "model_module_version": "1.5.0",
          "state": {
            "_dom_classes": [],
            "_model_module": "@jupyter-widgets/controls",
            "_model_module_version": "1.5.0",
            "_model_name": "FloatProgressModel",
            "_view_count": null,
            "_view_module": "@jupyter-widgets/controls",
            "_view_module_version": "1.5.0",
            "_view_name": "ProgressView",
            "bar_style": "success",
            "description": "",
            "description_tooltip": null,
            "layout": "IPY_MODEL_3cda51cafd31482396111aaa9b4b9b7a",
            "max": 8322,
            "min": 0,
            "orientation": "horizontal",
            "style": "IPY_MODEL_7e3cb3f593824f5091678d1c862f7122",
            "value": 8322
          }
        },
        "33564d77e1254118815652623e531370": {
          "model_module": "@jupyter-widgets/controls",
          "model_name": "HTMLModel",
          "model_module_version": "1.5.0",
          "state": {
            "_dom_classes": [],
            "_model_module": "@jupyter-widgets/controls",
            "_model_module_version": "1.5.0",
            "_model_name": "HTMLModel",
            "_view_count": null,
            "_view_module": "@jupyter-widgets/controls",
            "_view_module_version": "1.5.0",
            "_view_name": "HTMLView",
            "description": "",
            "description_tooltip": null,
            "layout": "IPY_MODEL_4d0911c04f6c48978d747d40edf7f98b",
            "placeholder": "​",
            "style": "IPY_MODEL_cbaff14d1afc430d9adf8f0bd1631663",
            "value": " 8322/8322 [00:06&lt;00:00, 1131.38 examples/s]"
          }
        },
        "06dbfe2790fa43d093ec870d9ca077d2": {
          "model_module": "@jupyter-widgets/base",
          "model_name": "LayoutModel",
          "model_module_version": "1.2.0",
          "state": {
            "_model_module": "@jupyter-widgets/base",
            "_model_module_version": "1.2.0",
            "_model_name": "LayoutModel",
            "_view_count": null,
            "_view_module": "@jupyter-widgets/base",
            "_view_module_version": "1.2.0",
            "_view_name": "LayoutView",
            "align_content": null,
            "align_items": null,
            "align_self": null,
            "border": null,
            "bottom": null,
            "display": null,
            "flex": null,
            "flex_flow": null,
            "grid_area": null,
            "grid_auto_columns": null,
            "grid_auto_flow": null,
            "grid_auto_rows": null,
            "grid_column": null,
            "grid_gap": null,
            "grid_row": null,
            "grid_template_areas": null,
            "grid_template_columns": null,
            "grid_template_rows": null,
            "height": null,
            "justify_content": null,
            "justify_items": null,
            "left": null,
            "margin": null,
            "max_height": null,
            "max_width": null,
            "min_height": null,
            "min_width": null,
            "object_fit": null,
            "object_position": null,
            "order": null,
            "overflow": null,
            "overflow_x": null,
            "overflow_y": null,
            "padding": null,
            "right": null,
            "top": null,
            "visibility": null,
            "width": null
          }
        },
        "cd468ebea7944ba2bc53c3b1a14779a0": {
          "model_module": "@jupyter-widgets/base",
          "model_name": "LayoutModel",
          "model_module_version": "1.2.0",
          "state": {
            "_model_module": "@jupyter-widgets/base",
            "_model_module_version": "1.2.0",
            "_model_name": "LayoutModel",
            "_view_count": null,
            "_view_module": "@jupyter-widgets/base",
            "_view_module_version": "1.2.0",
            "_view_name": "LayoutView",
            "align_content": null,
            "align_items": null,
            "align_self": null,
            "border": null,
            "bottom": null,
            "display": null,
            "flex": null,
            "flex_flow": null,
            "grid_area": null,
            "grid_auto_columns": null,
            "grid_auto_flow": null,
            "grid_auto_rows": null,
            "grid_column": null,
            "grid_gap": null,
            "grid_row": null,
            "grid_template_areas": null,
            "grid_template_columns": null,
            "grid_template_rows": null,
            "height": null,
            "justify_content": null,
            "justify_items": null,
            "left": null,
            "margin": null,
            "max_height": null,
            "max_width": null,
            "min_height": null,
            "min_width": null,
            "object_fit": null,
            "object_position": null,
            "order": null,
            "overflow": null,
            "overflow_x": null,
            "overflow_y": null,
            "padding": null,
            "right": null,
            "top": null,
            "visibility": null,
            "width": null
          }
        },
        "2c59f37dcaee46c0b40b69a53490e146": {
          "model_module": "@jupyter-widgets/controls",
          "model_name": "DescriptionStyleModel",
          "model_module_version": "1.5.0",
          "state": {
            "_model_module": "@jupyter-widgets/controls",
            "_model_module_version": "1.5.0",
            "_model_name": "DescriptionStyleModel",
            "_view_count": null,
            "_view_module": "@jupyter-widgets/base",
            "_view_module_version": "1.2.0",
            "_view_name": "StyleView",
            "description_width": ""
          }
        },
        "3cda51cafd31482396111aaa9b4b9b7a": {
          "model_module": "@jupyter-widgets/base",
          "model_name": "LayoutModel",
          "model_module_version": "1.2.0",
          "state": {
            "_model_module": "@jupyter-widgets/base",
            "_model_module_version": "1.2.0",
            "_model_name": "LayoutModel",
            "_view_count": null,
            "_view_module": "@jupyter-widgets/base",
            "_view_module_version": "1.2.0",
            "_view_name": "LayoutView",
            "align_content": null,
            "align_items": null,
            "align_self": null,
            "border": null,
            "bottom": null,
            "display": null,
            "flex": null,
            "flex_flow": null,
            "grid_area": null,
            "grid_auto_columns": null,
            "grid_auto_flow": null,
            "grid_auto_rows": null,
            "grid_column": null,
            "grid_gap": null,
            "grid_row": null,
            "grid_template_areas": null,
            "grid_template_columns": null,
            "grid_template_rows": null,
            "height": null,
            "justify_content": null,
            "justify_items": null,
            "left": null,
            "margin": null,
            "max_height": null,
            "max_width": null,
            "min_height": null,
            "min_width": null,
            "object_fit": null,
            "object_position": null,
            "order": null,
            "overflow": null,
            "overflow_x": null,
            "overflow_y": null,
            "padding": null,
            "right": null,
            "top": null,
            "visibility": null,
            "width": null
          }
        },
        "7e3cb3f593824f5091678d1c862f7122": {
          "model_module": "@jupyter-widgets/controls",
          "model_name": "ProgressStyleModel",
          "model_module_version": "1.5.0",
          "state": {
            "_model_module": "@jupyter-widgets/controls",
            "_model_module_version": "1.5.0",
            "_model_name": "ProgressStyleModel",
            "_view_count": null,
            "_view_module": "@jupyter-widgets/base",
            "_view_module_version": "1.2.0",
            "_view_name": "StyleView",
            "bar_color": null,
            "description_width": ""
          }
        },
        "4d0911c04f6c48978d747d40edf7f98b": {
          "model_module": "@jupyter-widgets/base",
          "model_name": "LayoutModel",
          "model_module_version": "1.2.0",
          "state": {
            "_model_module": "@jupyter-widgets/base",
            "_model_module_version": "1.2.0",
            "_model_name": "LayoutModel",
            "_view_count": null,
            "_view_module": "@jupyter-widgets/base",
            "_view_module_version": "1.2.0",
            "_view_name": "LayoutView",
            "align_content": null,
            "align_items": null,
            "align_self": null,
            "border": null,
            "bottom": null,
            "display": null,
            "flex": null,
            "flex_flow": null,
            "grid_area": null,
            "grid_auto_columns": null,
            "grid_auto_flow": null,
            "grid_auto_rows": null,
            "grid_column": null,
            "grid_gap": null,
            "grid_row": null,
            "grid_template_areas": null,
            "grid_template_columns": null,
            "grid_template_rows": null,
            "height": null,
            "justify_content": null,
            "justify_items": null,
            "left": null,
            "margin": null,
            "max_height": null,
            "max_width": null,
            "min_height": null,
            "min_width": null,
            "object_fit": null,
            "object_position": null,
            "order": null,
            "overflow": null,
            "overflow_x": null,
            "overflow_y": null,
            "padding": null,
            "right": null,
            "top": null,
            "visibility": null,
            "width": null
          }
        },
        "cbaff14d1afc430d9adf8f0bd1631663": {
          "model_module": "@jupyter-widgets/controls",
          "model_name": "DescriptionStyleModel",
          "model_module_version": "1.5.0",
          "state": {
            "_model_module": "@jupyter-widgets/controls",
            "_model_module_version": "1.5.0",
            "_model_name": "DescriptionStyleModel",
            "_view_count": null,
            "_view_module": "@jupyter-widgets/base",
            "_view_module_version": "1.2.0",
            "_view_name": "StyleView",
            "description_width": ""
          }
        },
        "419de97285fb49c3a659cf67161a15e4": {
          "model_module": "@jupyter-widgets/controls",
          "model_name": "HBoxModel",
          "model_module_version": "1.5.0",
          "state": {
            "_dom_classes": [],
            "_model_module": "@jupyter-widgets/controls",
            "_model_module_version": "1.5.0",
            "_model_name": "HBoxModel",
            "_view_count": null,
            "_view_module": "@jupyter-widgets/controls",
            "_view_module_version": "1.5.0",
            "_view_name": "HBoxView",
            "box_style": "",
            "children": [
              "IPY_MODEL_8926af04612d45c3ae5d94f5f9aa0f8b",
              "IPY_MODEL_05bd97dc566a4807bf16e6b3d1251b1c",
              "IPY_MODEL_9ebba854f23e4bb5bb64dfcd4f4f016f"
            ],
            "layout": "IPY_MODEL_b0a99555fd834cf7abacecad5faed2dc"
          }
        },
        "8926af04612d45c3ae5d94f5f9aa0f8b": {
          "model_module": "@jupyter-widgets/controls",
          "model_name": "HTMLModel",
          "model_module_version": "1.5.0",
          "state": {
            "_dom_classes": [],
            "_model_module": "@jupyter-widgets/controls",
            "_model_module_version": "1.5.0",
            "_model_name": "HTMLModel",
            "_view_count": null,
            "_view_module": "@jupyter-widgets/controls",
            "_view_module_version": "1.5.0",
            "_view_name": "HTMLView",
            "description": "",
            "description_tooltip": null,
            "layout": "IPY_MODEL_5101e90192b446bcad8fec5209409248",
            "placeholder": "​",
            "style": "IPY_MODEL_0a03cf4f010a466983efd071e648baec",
            "value": "Map: 100%"
          }
        },
        "05bd97dc566a4807bf16e6b3d1251b1c": {
          "model_module": "@jupyter-widgets/controls",
          "model_name": "FloatProgressModel",
          "model_module_version": "1.5.0",
          "state": {
            "_dom_classes": [],
            "_model_module": "@jupyter-widgets/controls",
            "_model_module_version": "1.5.0",
            "_model_name": "FloatProgressModel",
            "_view_count": null,
            "_view_module": "@jupyter-widgets/controls",
            "_view_module_version": "1.5.0",
            "_view_name": "ProgressView",
            "bar_style": "success",
            "description": "",
            "description_tooltip": null,
            "layout": "IPY_MODEL_47e8fdcf99a6489990ff228952adb00a",
            "max": 2081,
            "min": 0,
            "orientation": "horizontal",
            "style": "IPY_MODEL_96344bd22c564fee89de52589b422b87",
            "value": 2081
          }
        },
        "9ebba854f23e4bb5bb64dfcd4f4f016f": {
          "model_module": "@jupyter-widgets/controls",
          "model_name": "HTMLModel",
          "model_module_version": "1.5.0",
          "state": {
            "_dom_classes": [],
            "_model_module": "@jupyter-widgets/controls",
            "_model_module_version": "1.5.0",
            "_model_name": "HTMLModel",
            "_view_count": null,
            "_view_module": "@jupyter-widgets/controls",
            "_view_module_version": "1.5.0",
            "_view_name": "HTMLView",
            "description": "",
            "description_tooltip": null,
            "layout": "IPY_MODEL_5ac4b7e70a014a04b6f762404c1fd1f2",
            "placeholder": "​",
            "style": "IPY_MODEL_e65c170e6a2d4b9d9a1267c2987d05da",
            "value": " 2081/2081 [00:02&lt;00:00, 879.82 examples/s]"
          }
        },
        "b0a99555fd834cf7abacecad5faed2dc": {
          "model_module": "@jupyter-widgets/base",
          "model_name": "LayoutModel",
          "model_module_version": "1.2.0",
          "state": {
            "_model_module": "@jupyter-widgets/base",
            "_model_module_version": "1.2.0",
            "_model_name": "LayoutModel",
            "_view_count": null,
            "_view_module": "@jupyter-widgets/base",
            "_view_module_version": "1.2.0",
            "_view_name": "LayoutView",
            "align_content": null,
            "align_items": null,
            "align_self": null,
            "border": null,
            "bottom": null,
            "display": null,
            "flex": null,
            "flex_flow": null,
            "grid_area": null,
            "grid_auto_columns": null,
            "grid_auto_flow": null,
            "grid_auto_rows": null,
            "grid_column": null,
            "grid_gap": null,
            "grid_row": null,
            "grid_template_areas": null,
            "grid_template_columns": null,
            "grid_template_rows": null,
            "height": null,
            "justify_content": null,
            "justify_items": null,
            "left": null,
            "margin": null,
            "max_height": null,
            "max_width": null,
            "min_height": null,
            "min_width": null,
            "object_fit": null,
            "object_position": null,
            "order": null,
            "overflow": null,
            "overflow_x": null,
            "overflow_y": null,
            "padding": null,
            "right": null,
            "top": null,
            "visibility": null,
            "width": null
          }
        },
        "5101e90192b446bcad8fec5209409248": {
          "model_module": "@jupyter-widgets/base",
          "model_name": "LayoutModel",
          "model_module_version": "1.2.0",
          "state": {
            "_model_module": "@jupyter-widgets/base",
            "_model_module_version": "1.2.0",
            "_model_name": "LayoutModel",
            "_view_count": null,
            "_view_module": "@jupyter-widgets/base",
            "_view_module_version": "1.2.0",
            "_view_name": "LayoutView",
            "align_content": null,
            "align_items": null,
            "align_self": null,
            "border": null,
            "bottom": null,
            "display": null,
            "flex": null,
            "flex_flow": null,
            "grid_area": null,
            "grid_auto_columns": null,
            "grid_auto_flow": null,
            "grid_auto_rows": null,
            "grid_column": null,
            "grid_gap": null,
            "grid_row": null,
            "grid_template_areas": null,
            "grid_template_columns": null,
            "grid_template_rows": null,
            "height": null,
            "justify_content": null,
            "justify_items": null,
            "left": null,
            "margin": null,
            "max_height": null,
            "max_width": null,
            "min_height": null,
            "min_width": null,
            "object_fit": null,
            "object_position": null,
            "order": null,
            "overflow": null,
            "overflow_x": null,
            "overflow_y": null,
            "padding": null,
            "right": null,
            "top": null,
            "visibility": null,
            "width": null
          }
        },
        "0a03cf4f010a466983efd071e648baec": {
          "model_module": "@jupyter-widgets/controls",
          "model_name": "DescriptionStyleModel",
          "model_module_version": "1.5.0",
          "state": {
            "_model_module": "@jupyter-widgets/controls",
            "_model_module_version": "1.5.0",
            "_model_name": "DescriptionStyleModel",
            "_view_count": null,
            "_view_module": "@jupyter-widgets/base",
            "_view_module_version": "1.2.0",
            "_view_name": "StyleView",
            "description_width": ""
          }
        },
        "47e8fdcf99a6489990ff228952adb00a": {
          "model_module": "@jupyter-widgets/base",
          "model_name": "LayoutModel",
          "model_module_version": "1.2.0",
          "state": {
            "_model_module": "@jupyter-widgets/base",
            "_model_module_version": "1.2.0",
            "_model_name": "LayoutModel",
            "_view_count": null,
            "_view_module": "@jupyter-widgets/base",
            "_view_module_version": "1.2.0",
            "_view_name": "LayoutView",
            "align_content": null,
            "align_items": null,
            "align_self": null,
            "border": null,
            "bottom": null,
            "display": null,
            "flex": null,
            "flex_flow": null,
            "grid_area": null,
            "grid_auto_columns": null,
            "grid_auto_flow": null,
            "grid_auto_rows": null,
            "grid_column": null,
            "grid_gap": null,
            "grid_row": null,
            "grid_template_areas": null,
            "grid_template_columns": null,
            "grid_template_rows": null,
            "height": null,
            "justify_content": null,
            "justify_items": null,
            "left": null,
            "margin": null,
            "max_height": null,
            "max_width": null,
            "min_height": null,
            "min_width": null,
            "object_fit": null,
            "object_position": null,
            "order": null,
            "overflow": null,
            "overflow_x": null,
            "overflow_y": null,
            "padding": null,
            "right": null,
            "top": null,
            "visibility": null,
            "width": null
          }
        },
        "96344bd22c564fee89de52589b422b87": {
          "model_module": "@jupyter-widgets/controls",
          "model_name": "ProgressStyleModel",
          "model_module_version": "1.5.0",
          "state": {
            "_model_module": "@jupyter-widgets/controls",
            "_model_module_version": "1.5.0",
            "_model_name": "ProgressStyleModel",
            "_view_count": null,
            "_view_module": "@jupyter-widgets/base",
            "_view_module_version": "1.2.0",
            "_view_name": "StyleView",
            "bar_color": null,
            "description_width": ""
          }
        },
        "5ac4b7e70a014a04b6f762404c1fd1f2": {
          "model_module": "@jupyter-widgets/base",
          "model_name": "LayoutModel",
          "model_module_version": "1.2.0",
          "state": {
            "_model_module": "@jupyter-widgets/base",
            "_model_module_version": "1.2.0",
            "_model_name": "LayoutModel",
            "_view_count": null,
            "_view_module": "@jupyter-widgets/base",
            "_view_module_version": "1.2.0",
            "_view_name": "LayoutView",
            "align_content": null,
            "align_items": null,
            "align_self": null,
            "border": null,
            "bottom": null,
            "display": null,
            "flex": null,
            "flex_flow": null,
            "grid_area": null,
            "grid_auto_columns": null,
            "grid_auto_flow": null,
            "grid_auto_rows": null,
            "grid_column": null,
            "grid_gap": null,
            "grid_row": null,
            "grid_template_areas": null,
            "grid_template_columns": null,
            "grid_template_rows": null,
            "height": null,
            "justify_content": null,
            "justify_items": null,
            "left": null,
            "margin": null,
            "max_height": null,
            "max_width": null,
            "min_height": null,
            "min_width": null,
            "object_fit": null,
            "object_position": null,
            "order": null,
            "overflow": null,
            "overflow_x": null,
            "overflow_y": null,
            "padding": null,
            "right": null,
            "top": null,
            "visibility": null,
            "width": null
          }
        },
        "e65c170e6a2d4b9d9a1267c2987d05da": {
          "model_module": "@jupyter-widgets/controls",
          "model_name": "DescriptionStyleModel",
          "model_module_version": "1.5.0",
          "state": {
            "_model_module": "@jupyter-widgets/controls",
            "_model_module_version": "1.5.0",
            "_model_name": "DescriptionStyleModel",
            "_view_count": null,
            "_view_module": "@jupyter-widgets/base",
            "_view_module_version": "1.2.0",
            "_view_name": "StyleView",
            "description_width": ""
          }
        },
        "55edd61129d549558b4f6334982d4925": {
          "model_module": "@jupyter-widgets/controls",
          "model_name": "HBoxModel",
          "model_module_version": "1.5.0",
          "state": {
            "_dom_classes": [],
            "_model_module": "@jupyter-widgets/controls",
            "_model_module_version": "1.5.0",
            "_model_name": "HBoxModel",
            "_view_count": null,
            "_view_module": "@jupyter-widgets/controls",
            "_view_module_version": "1.5.0",
            "_view_name": "HBoxView",
            "box_style": "",
            "children": [
              "IPY_MODEL_38e55adf83054701909032522f1c4ba6",
              "IPY_MODEL_6b09117d31344e959eb6fb9471414f58",
              "IPY_MODEL_ce772f350788469c8245b073b69b0e1f"
            ],
            "layout": "IPY_MODEL_f5c2e8b0ebf146819c5b5c80b8dbe892"
          }
        },
        "38e55adf83054701909032522f1c4ba6": {
          "model_module": "@jupyter-widgets/controls",
          "model_name": "HTMLModel",
          "model_module_version": "1.5.0",
          "state": {
            "_dom_classes": [],
            "_model_module": "@jupyter-widgets/controls",
            "_model_module_version": "1.5.0",
            "_model_name": "HTMLModel",
            "_view_count": null,
            "_view_module": "@jupyter-widgets/controls",
            "_view_module_version": "1.5.0",
            "_view_name": "HTMLView",
            "description": "",
            "description_tooltip": null,
            "layout": "IPY_MODEL_b3b5eab19bcd4ebc9df2f7545eca6a0b",
            "placeholder": "​",
            "style": "IPY_MODEL_12e28b82c8d74fad953909ceac9d649b",
            "value": "Map: 100%"
          }
        },
        "6b09117d31344e959eb6fb9471414f58": {
          "model_module": "@jupyter-widgets/controls",
          "model_name": "FloatProgressModel",
          "model_module_version": "1.5.0",
          "state": {
            "_dom_classes": [],
            "_model_module": "@jupyter-widgets/controls",
            "_model_module_version": "1.5.0",
            "_model_name": "FloatProgressModel",
            "_view_count": null,
            "_view_module": "@jupyter-widgets/controls",
            "_view_module_version": "1.5.0",
            "_view_name": "ProgressView",
            "bar_style": "success",
            "description": "",
            "description_tooltip": null,
            "layout": "IPY_MODEL_71394ff171eb40368800f56872eb02e3",
            "max": 2601,
            "min": 0,
            "orientation": "horizontal",
            "style": "IPY_MODEL_504f4d9651894abb83df6f9942ce5321",
            "value": 2601
          }
        },
        "ce772f350788469c8245b073b69b0e1f": {
          "model_module": "@jupyter-widgets/controls",
          "model_name": "HTMLModel",
          "model_module_version": "1.5.0",
          "state": {
            "_dom_classes": [],
            "_model_module": "@jupyter-widgets/controls",
            "_model_module_version": "1.5.0",
            "_model_name": "HTMLModel",
            "_view_count": null,
            "_view_module": "@jupyter-widgets/controls",
            "_view_module_version": "1.5.0",
            "_view_name": "HTMLView",
            "description": "",
            "description_tooltip": null,
            "layout": "IPY_MODEL_6cd2d76f138440678ce5ca7153f9ac2b",
            "placeholder": "​",
            "style": "IPY_MODEL_caed37394ea6467498fe151492c4c4b9",
            "value": " 2601/2601 [00:01&lt;00:00, 1503.24 examples/s]"
          }
        },
        "f5c2e8b0ebf146819c5b5c80b8dbe892": {
          "model_module": "@jupyter-widgets/base",
          "model_name": "LayoutModel",
          "model_module_version": "1.2.0",
          "state": {
            "_model_module": "@jupyter-widgets/base",
            "_model_module_version": "1.2.0",
            "_model_name": "LayoutModel",
            "_view_count": null,
            "_view_module": "@jupyter-widgets/base",
            "_view_module_version": "1.2.0",
            "_view_name": "LayoutView",
            "align_content": null,
            "align_items": null,
            "align_self": null,
            "border": null,
            "bottom": null,
            "display": null,
            "flex": null,
            "flex_flow": null,
            "grid_area": null,
            "grid_auto_columns": null,
            "grid_auto_flow": null,
            "grid_auto_rows": null,
            "grid_column": null,
            "grid_gap": null,
            "grid_row": null,
            "grid_template_areas": null,
            "grid_template_columns": null,
            "grid_template_rows": null,
            "height": null,
            "justify_content": null,
            "justify_items": null,
            "left": null,
            "margin": null,
            "max_height": null,
            "max_width": null,
            "min_height": null,
            "min_width": null,
            "object_fit": null,
            "object_position": null,
            "order": null,
            "overflow": null,
            "overflow_x": null,
            "overflow_y": null,
            "padding": null,
            "right": null,
            "top": null,
            "visibility": null,
            "width": null
          }
        },
        "b3b5eab19bcd4ebc9df2f7545eca6a0b": {
          "model_module": "@jupyter-widgets/base",
          "model_name": "LayoutModel",
          "model_module_version": "1.2.0",
          "state": {
            "_model_module": "@jupyter-widgets/base",
            "_model_module_version": "1.2.0",
            "_model_name": "LayoutModel",
            "_view_count": null,
            "_view_module": "@jupyter-widgets/base",
            "_view_module_version": "1.2.0",
            "_view_name": "LayoutView",
            "align_content": null,
            "align_items": null,
            "align_self": null,
            "border": null,
            "bottom": null,
            "display": null,
            "flex": null,
            "flex_flow": null,
            "grid_area": null,
            "grid_auto_columns": null,
            "grid_auto_flow": null,
            "grid_auto_rows": null,
            "grid_column": null,
            "grid_gap": null,
            "grid_row": null,
            "grid_template_areas": null,
            "grid_template_columns": null,
            "grid_template_rows": null,
            "height": null,
            "justify_content": null,
            "justify_items": null,
            "left": null,
            "margin": null,
            "max_height": null,
            "max_width": null,
            "min_height": null,
            "min_width": null,
            "object_fit": null,
            "object_position": null,
            "order": null,
            "overflow": null,
            "overflow_x": null,
            "overflow_y": null,
            "padding": null,
            "right": null,
            "top": null,
            "visibility": null,
            "width": null
          }
        },
        "12e28b82c8d74fad953909ceac9d649b": {
          "model_module": "@jupyter-widgets/controls",
          "model_name": "DescriptionStyleModel",
          "model_module_version": "1.5.0",
          "state": {
            "_model_module": "@jupyter-widgets/controls",
            "_model_module_version": "1.5.0",
            "_model_name": "DescriptionStyleModel",
            "_view_count": null,
            "_view_module": "@jupyter-widgets/base",
            "_view_module_version": "1.2.0",
            "_view_name": "StyleView",
            "description_width": ""
          }
        },
        "71394ff171eb40368800f56872eb02e3": {
          "model_module": "@jupyter-widgets/base",
          "model_name": "LayoutModel",
          "model_module_version": "1.2.0",
          "state": {
            "_model_module": "@jupyter-widgets/base",
            "_model_module_version": "1.2.0",
            "_model_name": "LayoutModel",
            "_view_count": null,
            "_view_module": "@jupyter-widgets/base",
            "_view_module_version": "1.2.0",
            "_view_name": "LayoutView",
            "align_content": null,
            "align_items": null,
            "align_self": null,
            "border": null,
            "bottom": null,
            "display": null,
            "flex": null,
            "flex_flow": null,
            "grid_area": null,
            "grid_auto_columns": null,
            "grid_auto_flow": null,
            "grid_auto_rows": null,
            "grid_column": null,
            "grid_gap": null,
            "grid_row": null,
            "grid_template_areas": null,
            "grid_template_columns": null,
            "grid_template_rows": null,
            "height": null,
            "justify_content": null,
            "justify_items": null,
            "left": null,
            "margin": null,
            "max_height": null,
            "max_width": null,
            "min_height": null,
            "min_width": null,
            "object_fit": null,
            "object_position": null,
            "order": null,
            "overflow": null,
            "overflow_x": null,
            "overflow_y": null,
            "padding": null,
            "right": null,
            "top": null,
            "visibility": null,
            "width": null
          }
        },
        "504f4d9651894abb83df6f9942ce5321": {
          "model_module": "@jupyter-widgets/controls",
          "model_name": "ProgressStyleModel",
          "model_module_version": "1.5.0",
          "state": {
            "_model_module": "@jupyter-widgets/controls",
            "_model_module_version": "1.5.0",
            "_model_name": "ProgressStyleModel",
            "_view_count": null,
            "_view_module": "@jupyter-widgets/base",
            "_view_module_version": "1.2.0",
            "_view_name": "StyleView",
            "bar_color": null,
            "description_width": ""
          }
        },
        "6cd2d76f138440678ce5ca7153f9ac2b": {
          "model_module": "@jupyter-widgets/base",
          "model_name": "LayoutModel",
          "model_module_version": "1.2.0",
          "state": {
            "_model_module": "@jupyter-widgets/base",
            "_model_module_version": "1.2.0",
            "_model_name": "LayoutModel",
            "_view_count": null,
            "_view_module": "@jupyter-widgets/base",
            "_view_module_version": "1.2.0",
            "_view_name": "LayoutView",
            "align_content": null,
            "align_items": null,
            "align_self": null,
            "border": null,
            "bottom": null,
            "display": null,
            "flex": null,
            "flex_flow": null,
            "grid_area": null,
            "grid_auto_columns": null,
            "grid_auto_flow": null,
            "grid_auto_rows": null,
            "grid_column": null,
            "grid_gap": null,
            "grid_row": null,
            "grid_template_areas": null,
            "grid_template_columns": null,
            "grid_template_rows": null,
            "height": null,
            "justify_content": null,
            "justify_items": null,
            "left": null,
            "margin": null,
            "max_height": null,
            "max_width": null,
            "min_height": null,
            "min_width": null,
            "object_fit": null,
            "object_position": null,
            "order": null,
            "overflow": null,
            "overflow_x": null,
            "overflow_y": null,
            "padding": null,
            "right": null,
            "top": null,
            "visibility": null,
            "width": null
          }
        },
        "caed37394ea6467498fe151492c4c4b9": {
          "model_module": "@jupyter-widgets/controls",
          "model_name": "DescriptionStyleModel",
          "model_module_version": "1.5.0",
          "state": {
            "_model_module": "@jupyter-widgets/controls",
            "_model_module_version": "1.5.0",
            "_model_name": "DescriptionStyleModel",
            "_view_count": null,
            "_view_module": "@jupyter-widgets/base",
            "_view_module_version": "1.2.0",
            "_view_name": "StyleView",
            "description_width": ""
          }
        }
      }
    }
  },
  "nbformat": 4,
  "nbformat_minor": 0
}